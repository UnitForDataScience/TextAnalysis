{
  "nbformat": 4,
  "nbformat_minor": 0,
  "metadata": {
    "colab": {
      "provenance": [],
      "gpuType": "T4",
      "include_colab_link": true
    },
    "kernelspec": {
      "name": "python3",
      "display_name": "Python 3"
    },
    "language_info": {
      "name": "python"
    },
    "accelerator": "GPU"
  },
  "cells": [
    {
      "cell_type": "markdown",
      "metadata": {
        "id": "view-in-github",
        "colab_type": "text"
      },
      "source": [
        "<a href=\"https://colab.research.google.com/github/UnitForDataScience/TextAnalysis/blob/main/sentiment_analysis.ipynb\" target=\"_parent\"><img src=\"https://colab.research.google.com/assets/colab-badge.svg\" alt=\"Open In Colab\"/></a>"
      ]
    },
    {
      "cell_type": "markdown",
      "source": [
        "#  **I.Sentiment Analysis Lexicon-based Approaches**"
      ],
      "metadata": {
        "id": "fDg3Ubwsy5g5"
      }
    },
    {
      "cell_type": "markdown",
      "source": [
        "## 1. Install Dependencies and Download VADER lexicon\n",
        "\n",
        "\n"
      ],
      "metadata": {
        "id": "EIDasTrW5ttP"
      }
    },
    {
      "cell_type": "code",
      "source": [
        "!pip install datasets transformers huggingface_hub torch scikit-learn\n",
        "!apt-get install git-lfs"
      ],
      "metadata": {
        "colab": {
          "base_uri": "https://localhost:8080/"
        },
        "id": "oWqFwQJ2rQUx",
        "outputId": "fbd09255-63ca-4b69-c207-ef72c5de2715"
      },
      "execution_count": 1,
      "outputs": [
        {
          "output_type": "stream",
          "name": "stdout",
          "text": [
            "Collecting datasets\n",
            "  Downloading datasets-3.1.0-py3-none-any.whl.metadata (20 kB)\n",
            "Requirement already satisfied: transformers in /usr/local/lib/python3.10/dist-packages (4.44.2)\n",
            "Requirement already satisfied: huggingface_hub in /usr/local/lib/python3.10/dist-packages (0.24.7)\n",
            "Requirement already satisfied: torch in /usr/local/lib/python3.10/dist-packages (2.5.0+cu121)\n",
            "Requirement already satisfied: scikit-learn in /usr/local/lib/python3.10/dist-packages (1.5.2)\n",
            "Requirement already satisfied: filelock in /usr/local/lib/python3.10/dist-packages (from datasets) (3.16.1)\n",
            "Requirement already satisfied: numpy>=1.17 in /usr/local/lib/python3.10/dist-packages (from datasets) (1.26.4)\n",
            "Requirement already satisfied: pyarrow>=15.0.0 in /usr/local/lib/python3.10/dist-packages (from datasets) (17.0.0)\n",
            "Collecting dill<0.3.9,>=0.3.0 (from datasets)\n",
            "  Downloading dill-0.3.8-py3-none-any.whl.metadata (10 kB)\n",
            "Requirement already satisfied: pandas in /usr/local/lib/python3.10/dist-packages (from datasets) (2.2.2)\n",
            "Requirement already satisfied: requests>=2.32.2 in /usr/local/lib/python3.10/dist-packages (from datasets) (2.32.3)\n",
            "Requirement already satisfied: tqdm>=4.66.3 in /usr/local/lib/python3.10/dist-packages (from datasets) (4.66.6)\n",
            "Collecting xxhash (from datasets)\n",
            "  Downloading xxhash-3.5.0-cp310-cp310-manylinux_2_17_x86_64.manylinux2014_x86_64.whl.metadata (12 kB)\n",
            "Collecting multiprocess<0.70.17 (from datasets)\n",
            "  Downloading multiprocess-0.70.16-py310-none-any.whl.metadata (7.2 kB)\n",
            "Collecting fsspec<=2024.9.0,>=2023.1.0 (from fsspec[http]<=2024.9.0,>=2023.1.0->datasets)\n",
            "  Downloading fsspec-2024.9.0-py3-none-any.whl.metadata (11 kB)\n",
            "Requirement already satisfied: aiohttp in /usr/local/lib/python3.10/dist-packages (from datasets) (3.10.10)\n",
            "Requirement already satisfied: packaging in /usr/local/lib/python3.10/dist-packages (from datasets) (24.1)\n",
            "Requirement already satisfied: pyyaml>=5.1 in /usr/local/lib/python3.10/dist-packages (from datasets) (6.0.2)\n",
            "Requirement already satisfied: regex!=2019.12.17 in /usr/local/lib/python3.10/dist-packages (from transformers) (2024.9.11)\n",
            "Requirement already satisfied: safetensors>=0.4.1 in /usr/local/lib/python3.10/dist-packages (from transformers) (0.4.5)\n",
            "Requirement already satisfied: tokenizers<0.20,>=0.19 in /usr/local/lib/python3.10/dist-packages (from transformers) (0.19.1)\n",
            "Requirement already satisfied: typing-extensions>=3.7.4.3 in /usr/local/lib/python3.10/dist-packages (from huggingface_hub) (4.12.2)\n",
            "Requirement already satisfied: networkx in /usr/local/lib/python3.10/dist-packages (from torch) (3.4.2)\n",
            "Requirement already satisfied: jinja2 in /usr/local/lib/python3.10/dist-packages (from torch) (3.1.4)\n",
            "Requirement already satisfied: sympy==1.13.1 in /usr/local/lib/python3.10/dist-packages (from torch) (1.13.1)\n",
            "Requirement already satisfied: mpmath<1.4,>=1.1.0 in /usr/local/lib/python3.10/dist-packages (from sympy==1.13.1->torch) (1.3.0)\n",
            "Requirement already satisfied: scipy>=1.6.0 in /usr/local/lib/python3.10/dist-packages (from scikit-learn) (1.13.1)\n",
            "Requirement already satisfied: joblib>=1.2.0 in /usr/local/lib/python3.10/dist-packages (from scikit-learn) (1.4.2)\n",
            "Requirement already satisfied: threadpoolctl>=3.1.0 in /usr/local/lib/python3.10/dist-packages (from scikit-learn) (3.5.0)\n",
            "Requirement already satisfied: aiohappyeyeballs>=2.3.0 in /usr/local/lib/python3.10/dist-packages (from aiohttp->datasets) (2.4.3)\n",
            "Requirement already satisfied: aiosignal>=1.1.2 in /usr/local/lib/python3.10/dist-packages (from aiohttp->datasets) (1.3.1)\n",
            "Requirement already satisfied: attrs>=17.3.0 in /usr/local/lib/python3.10/dist-packages (from aiohttp->datasets) (24.2.0)\n",
            "Requirement already satisfied: frozenlist>=1.1.1 in /usr/local/lib/python3.10/dist-packages (from aiohttp->datasets) (1.5.0)\n",
            "Requirement already satisfied: multidict<7.0,>=4.5 in /usr/local/lib/python3.10/dist-packages (from aiohttp->datasets) (6.1.0)\n",
            "Requirement already satisfied: yarl<2.0,>=1.12.0 in /usr/local/lib/python3.10/dist-packages (from aiohttp->datasets) (1.17.0)\n",
            "Requirement already satisfied: async-timeout<5.0,>=4.0 in /usr/local/lib/python3.10/dist-packages (from aiohttp->datasets) (4.0.3)\n",
            "Requirement already satisfied: charset-normalizer<4,>=2 in /usr/local/lib/python3.10/dist-packages (from requests>=2.32.2->datasets) (3.4.0)\n",
            "Requirement already satisfied: idna<4,>=2.5 in /usr/local/lib/python3.10/dist-packages (from requests>=2.32.2->datasets) (3.10)\n",
            "Requirement already satisfied: urllib3<3,>=1.21.1 in /usr/local/lib/python3.10/dist-packages (from requests>=2.32.2->datasets) (2.2.3)\n",
            "Requirement already satisfied: certifi>=2017.4.17 in /usr/local/lib/python3.10/dist-packages (from requests>=2.32.2->datasets) (2024.8.30)\n",
            "Requirement already satisfied: MarkupSafe>=2.0 in /usr/local/lib/python3.10/dist-packages (from jinja2->torch) (3.0.2)\n",
            "Requirement already satisfied: python-dateutil>=2.8.2 in /usr/local/lib/python3.10/dist-packages (from pandas->datasets) (2.8.2)\n",
            "Requirement already satisfied: pytz>=2020.1 in /usr/local/lib/python3.10/dist-packages (from pandas->datasets) (2024.2)\n",
            "Requirement already satisfied: tzdata>=2022.7 in /usr/local/lib/python3.10/dist-packages (from pandas->datasets) (2024.2)\n",
            "Requirement already satisfied: six>=1.5 in /usr/local/lib/python3.10/dist-packages (from python-dateutil>=2.8.2->pandas->datasets) (1.16.0)\n",
            "Requirement already satisfied: propcache>=0.2.0 in /usr/local/lib/python3.10/dist-packages (from yarl<2.0,>=1.12.0->aiohttp->datasets) (0.2.0)\n",
            "Downloading datasets-3.1.0-py3-none-any.whl (480 kB)\n",
            "\u001b[2K   \u001b[90m━━━━━━━━━━━━━━━━━━━━━━━━━━━━━━━━━━━━━━━━\u001b[0m \u001b[32m480.6/480.6 kB\u001b[0m \u001b[31m2.4 MB/s\u001b[0m eta \u001b[36m0:00:00\u001b[0m\n",
            "\u001b[?25hDownloading dill-0.3.8-py3-none-any.whl (116 kB)\n",
            "\u001b[2K   \u001b[90m━━━━━━━━━━━━━━━━━━━━━━━━━━━━━━━━━━━━━━━━\u001b[0m \u001b[32m116.3/116.3 kB\u001b[0m \u001b[31m5.7 MB/s\u001b[0m eta \u001b[36m0:00:00\u001b[0m\n",
            "\u001b[?25hDownloading fsspec-2024.9.0-py3-none-any.whl (179 kB)\n",
            "\u001b[2K   \u001b[90m━━━━━━━━━━━━━━━━━━━━━━━━━━━━━━━━━━━━━━━━\u001b[0m \u001b[32m179.3/179.3 kB\u001b[0m \u001b[31m13.7 MB/s\u001b[0m eta \u001b[36m0:00:00\u001b[0m\n",
            "\u001b[?25hDownloading multiprocess-0.70.16-py310-none-any.whl (134 kB)\n",
            "\u001b[2K   \u001b[90m━━━━━━━━━━━━━━━━━━━━━━━━━━━━━━━━━━━━━━━━\u001b[0m \u001b[32m134.8/134.8 kB\u001b[0m \u001b[31m12.2 MB/s\u001b[0m eta \u001b[36m0:00:00\u001b[0m\n",
            "\u001b[?25hDownloading xxhash-3.5.0-cp310-cp310-manylinux_2_17_x86_64.manylinux2014_x86_64.whl (194 kB)\n",
            "\u001b[2K   \u001b[90m━━━━━━━━━━━━━━━━━━━━━━━━━━━━━━━━━━━━━━━━\u001b[0m \u001b[32m194.1/194.1 kB\u001b[0m \u001b[31m12.8 MB/s\u001b[0m eta \u001b[36m0:00:00\u001b[0m\n",
            "\u001b[?25hInstalling collected packages: xxhash, fsspec, dill, multiprocess, datasets\n",
            "  Attempting uninstall: fsspec\n",
            "    Found existing installation: fsspec 2024.10.0\n",
            "    Uninstalling fsspec-2024.10.0:\n",
            "      Successfully uninstalled fsspec-2024.10.0\n",
            "\u001b[31mERROR: pip's dependency resolver does not currently take into account all the packages that are installed. This behaviour is the source of the following dependency conflicts.\n",
            "gcsfs 2024.10.0 requires fsspec==2024.10.0, but you have fsspec 2024.9.0 which is incompatible.\u001b[0m\u001b[31m\n",
            "\u001b[0mSuccessfully installed datasets-3.1.0 dill-0.3.8 fsspec-2024.9.0 multiprocess-0.70.16 xxhash-3.5.0\n",
            "Reading package lists... Done\n",
            "Building dependency tree... Done\n",
            "Reading state information... Done\n",
            "git-lfs is already the newest version (3.0.2-1ubuntu0.2).\n",
            "0 upgraded, 0 newly installed, 0 to remove and 49 not upgraded.\n"
          ]
        }
      ]
    },
    {
      "cell_type": "code",
      "source": [
        "### Install Libraries\n",
        "from nltk.sentiment.vader import SentimentIntensityAnalyzer\n",
        "import nltk\n",
        "\n",
        "### Download VADER lexicon\n",
        "nltk.download('vader_lexicon')"
      ],
      "metadata": {
        "colab": {
          "base_uri": "https://localhost:8080/"
        },
        "id": "LPI0tuy3y6xo",
        "outputId": "af7d5d67-90db-4f50-ae93-5fcaa3b7cb42"
      },
      "execution_count": null,
      "outputs": [
        {
          "output_type": "stream",
          "name": "stderr",
          "text": [
            "[nltk_data] Downloading package vader_lexicon to /root/nltk_data...\n"
          ]
        },
        {
          "output_type": "execute_result",
          "data": {
            "text/plain": [
              "True"
            ]
          },
          "metadata": {},
          "execution_count": 1
        }
      ]
    },
    {
      "cell_type": "markdown",
      "source": [
        "## 2. Explore VADER lexicon"
      ],
      "metadata": {
        "id": "cKsOX_OR8m2Y"
      }
    },
    {
      "cell_type": "code",
      "source": [
        "### initialize VADER Sentiment Analyzer\n",
        "sid = SentimentIntensityAnalyzer()\n",
        "\n",
        "### access lexicon dictionary\n",
        "vader_lexicon = sid.lexicon\n",
        "\n",
        "### print a sample of the lexicon\n",
        "list(vader_lexicon.items())[:10000]"
      ],
      "metadata": {
        "colab": {
          "base_uri": "https://localhost:8080/"
        },
        "id": "a86bUnJu6BhI",
        "outputId": "4d55b500-0380-402c-f7af-d537da626210"
      },
      "execution_count": null,
      "outputs": [
        {
          "output_type": "execute_result",
          "data": {
            "text/plain": [
              "[('$:', -1.5),\n",
              " ('%)', -0.4),\n",
              " ('%-)', -1.5),\n",
              " ('&-:', -0.4),\n",
              " ('&:', -0.7),\n",
              " (\"( '}{' )\", 1.6),\n",
              " ('(%', -0.9),\n",
              " (\"('-:\", 2.2),\n",
              " (\"(':\", 2.3),\n",
              " ('((-:', 2.1),\n",
              " ('(*', 1.1),\n",
              " ('(-%', -0.7),\n",
              " ('(-*', 1.3),\n",
              " ('(-:', 1.6),\n",
              " ('(-:0', 2.8),\n",
              " ('(-:<', -0.4),\n",
              " ('(-:o', 1.5),\n",
              " ('(-:O', 1.5),\n",
              " ('(-:{', -0.1),\n",
              " ('(-:|>*', 1.9),\n",
              " ('(-;', 1.3),\n",
              " ('(-;|', 2.1),\n",
              " ('(8', 2.6),\n",
              " ('(:', 2.2),\n",
              " ('(:0', 2.4),\n",
              " ('(:<', -0.2),\n",
              " ('(:o', 2.5),\n",
              " ('(:O', 2.5),\n",
              " ('(;', 1.1),\n",
              " ('(;<', 0.3),\n",
              " ('(=', 2.2),\n",
              " ('(?:', 2.1),\n",
              " ('(^:', 1.5),\n",
              " ('(^;', 1.5),\n",
              " ('(^;0', 2.0),\n",
              " ('(^;o', 1.9),\n",
              " ('(o:', 1.6),\n",
              " (\")':\", -2.0),\n",
              " (\")-':\", -2.1),\n",
              " (')-:', -2.1),\n",
              " (')-:<', -2.2),\n",
              " (')-:{', -2.1),\n",
              " ('):', -1.8),\n",
              " ('):<', -1.9),\n",
              " ('):{', -2.3),\n",
              " (');<', -2.6),\n",
              " ('*)', 0.6),\n",
              " ('*-)', 0.3),\n",
              " ('*-:', 2.1),\n",
              " ('*-;', 2.4),\n",
              " ('*:', 1.9),\n",
              " ('*<|:-)', 1.6),\n",
              " ('*\\\\0/*', 2.3),\n",
              " ('*^:', 1.6),\n",
              " (',-:', 1.2),\n",
              " (\"---'-;-{@\", 2.3),\n",
              " ('--<--<@', 2.2),\n",
              " ('.-:', -1.2),\n",
              " ('..###-:', -1.7),\n",
              " ('..###:', -1.9),\n",
              " ('/-:', -1.3),\n",
              " ('/:', -1.3),\n",
              " ('/:<', -1.4),\n",
              " ('/=', -0.9),\n",
              " ('/^:', -1.0),\n",
              " ('/o:', -1.4),\n",
              " ('0-8', 0.1),\n",
              " ('0-|', -1.2),\n",
              " ('0:)', 1.9),\n",
              " ('0:-)', 1.4),\n",
              " ('0:-3', 1.5),\n",
              " ('0:03', 1.9),\n",
              " ('0;^)', 1.6),\n",
              " ('0_o', -0.3),\n",
              " ('10q', 2.1),\n",
              " ('1337', 2.1),\n",
              " ('143', 3.2),\n",
              " ('1432', 2.6),\n",
              " ('14aa41', 2.4),\n",
              " ('182', -2.9),\n",
              " ('187', -3.1),\n",
              " ('2g2b4g', 2.8),\n",
              " ('2g2bt', -0.1),\n",
              " ('2qt', 2.1),\n",
              " ('3:(', -2.2),\n",
              " ('3:)', 0.5),\n",
              " ('3:-(', -2.3),\n",
              " ('3:-)', -1.4),\n",
              " ('4col', -2.2),\n",
              " ('4q', -3.1),\n",
              " ('5fs', 1.5),\n",
              " ('8)', 1.9),\n",
              " ('8-d', 1.7),\n",
              " ('8-o', -0.3),\n",
              " ('86', -1.6),\n",
              " ('8d', 2.9),\n",
              " (':###..', -2.4),\n",
              " (':$', -0.2),\n",
              " (':&', -0.6),\n",
              " (\":'(\", -2.2),\n",
              " (\":')\", 2.3),\n",
              " (\":'-(\", -2.4),\n",
              " (\":'-)\", 2.7),\n",
              " (':(', -1.9),\n",
              " (':)', 2.0),\n",
              " (':*', 2.5),\n",
              " (':-###..', -2.5),\n",
              " (':-&', -0.5),\n",
              " (':-(', -1.5),\n",
              " (':-)', 1.3),\n",
              " (':-))', 2.8),\n",
              " (':-*', 1.7),\n",
              " (':-,', 1.1),\n",
              " (':-.', -0.9),\n",
              " (':-/', -1.2),\n",
              " (':-<', -1.5),\n",
              " (':-d', 2.3),\n",
              " (':-D', 2.3),\n",
              " (':-o', 0.1),\n",
              " (':-p', 1.5),\n",
              " (':-[', -1.6),\n",
              " (':-\\\\', -0.9),\n",
              " (':-c', -1.3),\n",
              " (':-|', -0.7),\n",
              " (':-||', -2.5),\n",
              " (':-Þ', 0.9),\n",
              " (':/', -1.4),\n",
              " (':3', 2.3),\n",
              " (':<', -2.1),\n",
              " (':>', 2.1),\n",
              " (':?)', 1.3),\n",
              " (':?c', -1.6),\n",
              " (':@', -2.5),\n",
              " (':d', 2.3),\n",
              " (':D', 2.3),\n",
              " (':l', -1.7),\n",
              " (':o', -0.4),\n",
              " (':p', 1.4),\n",
              " (':s', -1.2),\n",
              " (':[', -2.0),\n",
              " (':\\\\', -1.3),\n",
              " (':]', 2.2),\n",
              " (':^)', 2.1),\n",
              " (':^*', 2.6),\n",
              " (':^/', -1.2),\n",
              " (':^\\\\', -1.0),\n",
              " (':^|', -1.0),\n",
              " (':c', -2.1),\n",
              " (':c)', 2.0),\n",
              " (':o)', 2.1),\n",
              " (':o/', -1.4),\n",
              " (':o\\\\', -1.1),\n",
              " (':o|', -0.6),\n",
              " (':{', -1.9),\n",
              " (':|', -0.4),\n",
              " (':}', 2.1),\n",
              " (':Þ', 1.1),\n",
              " (';)', 0.9),\n",
              " (';-)', 1.0),\n",
              " (';-*', 2.2),\n",
              " (';-]', 0.7),\n",
              " (';d', 0.8),\n",
              " (';D', 0.8),\n",
              " (';]', 0.6),\n",
              " (';^)', 1.4),\n",
              " ('</3', -3.0),\n",
              " ('<3', 1.9),\n",
              " ('<:', 2.1),\n",
              " ('<:-|', -1.4),\n",
              " ('=)', 2.2),\n",
              " ('=-3', 2.0),\n",
              " ('=-d', 2.4),\n",
              " ('=-D', 2.4),\n",
              " ('=/', -1.4),\n",
              " ('=3', 2.1),\n",
              " ('=d', 2.3),\n",
              " ('=D', 2.3),\n",
              " ('=l', -1.2),\n",
              " ('=\\\\', -1.2),\n",
              " ('=]', 1.6),\n",
              " ('=p', 1.3),\n",
              " ('=|', -0.8),\n",
              " ('>-:', -2.0),\n",
              " ('>.<', -1.3),\n",
              " ('>:', -2.1),\n",
              " ('>:(', -2.7),\n",
              " ('>:)', 0.4),\n",
              " ('>:-(', -2.7),\n",
              " ('>:-)', -0.4),\n",
              " ('>:/', -1.6),\n",
              " ('>:o', -1.2),\n",
              " ('>:p', 1.0),\n",
              " ('>:[', -2.1),\n",
              " ('>:\\\\', -1.7),\n",
              " ('>;(', -2.9),\n",
              " ('>;)', 0.1),\n",
              " ('>_>^', 2.1),\n",
              " ('@:', -2.1),\n",
              " ('@>-->--', 2.1),\n",
              " (\"@}-;-'---\", 2.2),\n",
              " ('aas', 2.5),\n",
              " ('aayf', 2.7),\n",
              " ('afu', -2.9),\n",
              " ('alol', 2.8),\n",
              " ('ambw', 2.9),\n",
              " ('aml', 3.4),\n",
              " ('atab', -1.9),\n",
              " ('awol', -1.3),\n",
              " ('ayc', 0.2),\n",
              " ('ayor', -1.2),\n",
              " ('aug-00', 0.3),\n",
              " ('bfd', -2.7),\n",
              " ('bfe', -2.6),\n",
              " ('bff', 2.9),\n",
              " ('bffn', 1.0),\n",
              " ('bl', 2.3),\n",
              " ('bsod', -2.2),\n",
              " ('btd', -2.1),\n",
              " ('btdt', -0.1),\n",
              " ('bz', 0.4),\n",
              " ('b^d', 2.6),\n",
              " ('cwot', -2.3),\n",
              " (\"d-':\", -2.5),\n",
              " ('d8', -3.2),\n",
              " ('d:', 1.2),\n",
              " ('d:<', -3.2),\n",
              " ('d;', -2.9),\n",
              " ('d=', 1.5),\n",
              " ('doa', -2.3),\n",
              " ('dx', -3.0),\n",
              " ('ez', 1.5),\n",
              " ('fav', 2.0),\n",
              " ('fcol', -1.8),\n",
              " ('ff', 1.8),\n",
              " ('ffs', -2.8),\n",
              " ('fkm', -2.4),\n",
              " ('foaf', 1.8),\n",
              " ('ftw', 2.0),\n",
              " ('fu', -3.7),\n",
              " ('fubar', -3.0),\n",
              " ('fwb', 2.5),\n",
              " ('fyi', 0.8),\n",
              " ('fysa', 0.4),\n",
              " ('g1', 1.4),\n",
              " ('gg', 1.2),\n",
              " ('gga', 1.7),\n",
              " ('gigo', -0.6),\n",
              " ('gj', 2.0),\n",
              " ('gl', 1.3),\n",
              " ('gla', 2.5),\n",
              " ('gn', 1.2),\n",
              " ('gr8', 2.7),\n",
              " ('grrr', -0.4),\n",
              " ('gt', 1.1),\n",
              " ('h&k', 2.3),\n",
              " ('hagd', 2.2),\n",
              " ('hagn', 2.2),\n",
              " ('hago', 1.2),\n",
              " ('hak', 1.9),\n",
              " ('hand', 2.2),\n",
              " ('hho1/2k', 1.4),\n",
              " ('hhoj', 2.0),\n",
              " ('hhok', 0.9),\n",
              " ('hugz', 2.0),\n",
              " ('hi5', 1.9),\n",
              " ('idk', -0.4),\n",
              " ('ijs', 0.7),\n",
              " ('ilu', 3.4),\n",
              " ('iluaaf', 2.7),\n",
              " ('ily', 3.4),\n",
              " ('ily2', 2.6),\n",
              " ('iou', 0.7),\n",
              " ('iyq', 2.3),\n",
              " ('j/j', 2.0),\n",
              " ('j/k', 1.6),\n",
              " ('j/p', 1.4),\n",
              " ('j/t', -0.2),\n",
              " ('j/w', 1.0),\n",
              " ('j4f', 1.4),\n",
              " ('j4g', 1.7),\n",
              " ('jho', 0.8),\n",
              " ('jhomf', 1.0),\n",
              " ('jj', 1.0),\n",
              " ('jk', 0.9),\n",
              " ('jp', 0.8),\n",
              " ('jt', 0.9),\n",
              " ('jw', 1.6),\n",
              " ('jealz', -1.2),\n",
              " ('k4y', 2.3),\n",
              " ('kfy', 2.3),\n",
              " ('kia', -3.2),\n",
              " ('kk', 1.5),\n",
              " ('kmuf', 2.2),\n",
              " ('l', 2.0),\n",
              " ('l&r', 2.2),\n",
              " ('laoj', 1.3),\n",
              " ('lmao', 2.9),\n",
              " ('lmbao', 1.8),\n",
              " ('lmfao', 2.5),\n",
              " ('lmso', 2.7),\n",
              " ('lol', 1.8),\n",
              " ('lolz', 2.7),\n",
              " ('lts', 1.6),\n",
              " ('ly', 2.6),\n",
              " ('ly4e', 2.7),\n",
              " ('lya', 3.3),\n",
              " ('lyb', 3.0),\n",
              " ('lyl', 3.1),\n",
              " ('lylab', 2.7),\n",
              " ('lylas', 2.6),\n",
              " ('lylb', 1.6),\n",
              " ('m8', 1.4),\n",
              " ('mia', -1.2),\n",
              " ('mml', 2.0),\n",
              " ('mofo', -2.4),\n",
              " ('muah', 2.3),\n",
              " ('mubar', -1.0),\n",
              " ('musm', 0.9),\n",
              " ('mwah', 2.5),\n",
              " ('n1', 1.9),\n",
              " ('nbd', 1.3),\n",
              " ('nbif', -0.5),\n",
              " ('nfc', -2.7),\n",
              " ('nfw', -2.4),\n",
              " ('nh', 2.2),\n",
              " ('nimby', -0.8),\n",
              " ('nimjd', -0.7),\n",
              " ('nimq', -0.2),\n",
              " ('nimy', -1.4),\n",
              " ('nitl', -1.5),\n",
              " ('nme', -2.1),\n",
              " ('noyb', -0.7),\n",
              " ('np', 1.4),\n",
              " ('ntmu', 1.4),\n",
              " ('o-8', -0.5),\n",
              " ('o-:', -0.3),\n",
              " ('o-|', -1.1),\n",
              " ('o.o', -0.8),\n",
              " ('O.o', -0.6),\n",
              " ('o.O', -0.6),\n",
              " ('o:', -0.2),\n",
              " ('o:)', 1.5),\n",
              " ('o:-)', 2.0),\n",
              " ('o:-3', 2.2),\n",
              " ('o:3', 2.3),\n",
              " ('o:<', -0.3),\n",
              " ('o;^)', 1.6),\n",
              " ('ok', 1.2),\n",
              " ('o_o', -0.5),\n",
              " ('O_o', -0.5),\n",
              " ('o_O', -0.5),\n",
              " ('pita', -2.4),\n",
              " ('pls', 0.3),\n",
              " ('plz', 0.3),\n",
              " ('pmbi', 0.8),\n",
              " ('pmfji', 0.3),\n",
              " ('pmji', 0.7),\n",
              " ('po', -2.6),\n",
              " ('ptl', 2.6),\n",
              " ('pu', -1.1),\n",
              " ('qq', -2.2),\n",
              " ('qt', 1.8),\n",
              " ('r&r', 2.4),\n",
              " ('rofl', 2.7),\n",
              " ('roflmao', 2.5),\n",
              " ('rotfl', 2.6),\n",
              " ('rotflmao', 2.8),\n",
              " ('rotflmfao', 2.5),\n",
              " ('rotflol', 3.0),\n",
              " ('rotgl', 2.9),\n",
              " ('rotglmao', 1.8),\n",
              " ('s:', -1.1),\n",
              " ('sapfu', -1.1),\n",
              " ('sete', 2.8),\n",
              " ('sfete', 2.7),\n",
              " ('sgtm', 2.4),\n",
              " ('slap', 0.6),\n",
              " ('slaw', 2.1),\n",
              " ('smh', -1.3),\n",
              " ('snafu', -2.5),\n",
              " ('sob', -1.0),\n",
              " ('swak', 2.3),\n",
              " ('tgif', 2.3),\n",
              " ('thks', 1.4),\n",
              " ('thx', 1.5),\n",
              " ('tia', 2.3),\n",
              " ('tmi', -0.3),\n",
              " ('tnx', 1.1),\n",
              " ('true', 1.8),\n",
              " ('tx', 1.5),\n",
              " ('txs', 1.1),\n",
              " ('ty', 1.6),\n",
              " ('tyvm', 2.5),\n",
              " ('urw', 1.9),\n",
              " ('vbg', 2.1),\n",
              " ('vbs', 3.1),\n",
              " ('vip', 2.3),\n",
              " ('vwd', 2.6),\n",
              " ('vwp', 2.1),\n",
              " ('wag', -0.2),\n",
              " ('wd', 2.7),\n",
              " ('wilco', 0.9),\n",
              " ('wp', 1.0),\n",
              " ('wtf', -2.8),\n",
              " ('wtg', 2.1),\n",
              " ('wth', -2.4),\n",
              " ('x-d', 2.6),\n",
              " ('x-p', 1.7),\n",
              " ('xd', 2.8),\n",
              " ('xlnt', 3.0),\n",
              " ('xoxo', 3.0),\n",
              " ('xoxozzz', 2.3),\n",
              " ('xp', 1.6),\n",
              " ('xqzt', 1.6),\n",
              " ('xtc', 0.8),\n",
              " ('yolo', 1.1),\n",
              " ('yoyo', 0.4),\n",
              " ('yvw', 1.6),\n",
              " ('yw', 1.8),\n",
              " ('ywia', 2.5),\n",
              " ('zzz', -1.2),\n",
              " ('[-;', 0.5),\n",
              " ('[:', 1.3),\n",
              " ('[;', 1.0),\n",
              " ('[=', 1.7),\n",
              " ('\\\\-:', -1.0),\n",
              " ('\\\\:', -1.0),\n",
              " ('\\\\:<', -1.7),\n",
              " ('\\\\=', -1.1),\n",
              " ('\\\\^:', -1.3),\n",
              " ('\\\\o/', 2.2),\n",
              " ('\\\\o:', -1.2),\n",
              " (']-:', -2.1),\n",
              " (']:', -1.6),\n",
              " (']:<', -2.5),\n",
              " ('^<_<', 1.4),\n",
              " ('^urs', -2.8),\n",
              " ('abandon', -1.9),\n",
              " ('abandoned', -2.0),\n",
              " ('abandoner', -1.9),\n",
              " ('abandoners', -1.9),\n",
              " ('abandoning', -1.6),\n",
              " ('abandonment', -2.4),\n",
              " ('abandonments', -1.7),\n",
              " ('abandons', -1.3),\n",
              " ('abducted', -2.3),\n",
              " ('abduction', -2.8),\n",
              " ('abductions', -2.0),\n",
              " ('abhor', -2.0),\n",
              " ('abhorred', -2.4),\n",
              " ('abhorrent', -3.1),\n",
              " ('abhors', -2.9),\n",
              " ('abilities', 1.0),\n",
              " ('ability', 1.3),\n",
              " ('aboard', 0.1),\n",
              " ('absentee', -1.1),\n",
              " ('absentees', -0.8),\n",
              " ('absolve', 1.2),\n",
              " ('absolved', 1.5),\n",
              " ('absolves', 1.3),\n",
              " ('absolving', 1.6),\n",
              " ('abuse', -3.2),\n",
              " ('abused', -2.3),\n",
              " ('abuser', -2.6),\n",
              " ('abusers', -2.6),\n",
              " ('abuses', -2.6),\n",
              " ('abusing', -2.0),\n",
              " ('abusive', -3.2),\n",
              " ('abusively', -2.8),\n",
              " ('abusiveness', -2.5),\n",
              " ('abusivenesses', -3.0),\n",
              " ('accept', 1.6),\n",
              " ('acceptabilities', 1.6),\n",
              " ('acceptability', 1.1),\n",
              " ('acceptable', 1.3),\n",
              " ('acceptableness', 1.3),\n",
              " ('acceptably', 1.5),\n",
              " ('acceptance', 2.0),\n",
              " ('acceptances', 1.7),\n",
              " ('acceptant', 1.6),\n",
              " ('acceptation', 1.3),\n",
              " ('acceptations', 0.9),\n",
              " ('accepted', 1.1),\n",
              " ('accepting', 1.6),\n",
              " ('accepts', 1.3),\n",
              " ('accident', -2.1),\n",
              " ('accidental', -0.3),\n",
              " ('accidentally', -1.4),\n",
              " ('accidents', -1.3),\n",
              " ('accomplish', 1.8),\n",
              " ('accomplished', 1.9),\n",
              " ('accomplishes', 1.7),\n",
              " ('accusation', -1.0),\n",
              " ('accusations', -1.3),\n",
              " ('accuse', -0.8),\n",
              " ('accused', -1.2),\n",
              " ('accuses', -1.4),\n",
              " ('accusing', -0.7),\n",
              " ('ache', -1.6),\n",
              " ('ached', -1.6),\n",
              " ('aches', -1.0),\n",
              " ('achievable', 1.3),\n",
              " ('aching', -2.2),\n",
              " ('acquit', 0.8),\n",
              " ('acquits', 0.1),\n",
              " ('acquitted', 1.0),\n",
              " ('acquitting', 1.3),\n",
              " ('acrimonious', -1.7),\n",
              " ('active', 1.7),\n",
              " ('actively', 1.3),\n",
              " ('activeness', 0.6),\n",
              " ('activenesses', 0.8),\n",
              " ('actives', 1.1),\n",
              " ('adequate', 0.9),\n",
              " ('admirability', 2.4),\n",
              " ('admirable', 2.6),\n",
              " ('admirableness', 2.2),\n",
              " ('admirably', 2.5),\n",
              " ('admiral', 1.3),\n",
              " ('admirals', 1.5),\n",
              " ('admiralties', 1.6),\n",
              " ('admiralty', 1.2),\n",
              " ('admiration', 2.5),\n",
              " ('admirations', 1.6),\n",
              " ('admire', 2.1),\n",
              " ('admired', 2.3),\n",
              " ('admirer', 1.8),\n",
              " ('admirers', 1.7),\n",
              " ('admires', 1.5),\n",
              " ('admiring', 1.6),\n",
              " ('admiringly', 2.3),\n",
              " ('admit', 0.8),\n",
              " ('admits', 1.2),\n",
              " ('admitted', 0.4),\n",
              " ('admonished', -1.9),\n",
              " ('adopt', 0.7),\n",
              " ('adopts', 0.7),\n",
              " ('adorability', 2.2),\n",
              " ('adorable', 2.2),\n",
              " ('adorableness', 2.5),\n",
              " ('adorably', 2.1),\n",
              " ('adoration', 2.9),\n",
              " ('adorations', 2.2),\n",
              " ('adore', 2.6),\n",
              " ('adored', 1.8),\n",
              " ('adorer', 1.7),\n",
              " ('adorers', 2.1),\n",
              " ('adores', 1.6),\n",
              " ('adoring', 2.6),\n",
              " ('adoringly', 2.4),\n",
              " ('adorn', 0.9),\n",
              " ('adorned', 0.8),\n",
              " ('adorner', 1.3),\n",
              " ('adorners', 0.9),\n",
              " ('adorning', 1.0),\n",
              " ('adornment', 1.3),\n",
              " ('adornments', 0.8),\n",
              " ('adorns', 0.5),\n",
              " ('advanced', 1.0),\n",
              " ('advantage', 1.0),\n",
              " ('advantaged', 1.4),\n",
              " ('advantageous', 1.5),\n",
              " ('advantageously', 1.9),\n",
              " ('advantageousness', 1.6),\n",
              " ('advantages', 1.5),\n",
              " ('advantaging', 1.6),\n",
              " ('adventure', 1.3),\n",
              " ('adventured', 1.3),\n",
              " ('adventurer', 1.2),\n",
              " ('adventurers', 0.9),\n",
              " ('adventures', 1.4),\n",
              " ('adventuresome', 1.7),\n",
              " ('adventuresomeness', 1.3),\n",
              " ('adventuress', 0.8),\n",
              " ('adventuresses', 1.4),\n",
              " ('adventuring', 2.3),\n",
              " ('adventurism', 1.5),\n",
              " ('adventurist', 1.4),\n",
              " ('adventuristic', 1.7),\n",
              " ('adventurists', 1.2),\n",
              " ('adventurous', 1.4),\n",
              " ('adventurously', 1.3),\n",
              " ('adventurousness', 1.8),\n",
              " ('adversarial', -1.5),\n",
              " ('adversaries', -1.0),\n",
              " ('adversary', -0.8),\n",
              " ('adversative', -1.2),\n",
              " ('adversatively', -0.1),\n",
              " ('adversatives', -1.0),\n",
              " ('adverse', -1.5),\n",
              " ('adversely', -0.8),\n",
              " ('adverseness', -0.6),\n",
              " ('adversities', -1.5),\n",
              " ('adversity', -1.8),\n",
              " ('affected', -0.6),\n",
              " ('affection', 2.4),\n",
              " ('affectional', 1.9),\n",
              " ('affectionally', 1.5),\n",
              " ('affectionate', 1.9),\n",
              " ('affectionately', 2.2),\n",
              " ('affectioned', 1.8),\n",
              " ('affectionless', -2.0),\n",
              " ('affections', 1.5),\n",
              " ('afflicted', -1.5),\n",
              " ('affronted', 0.2),\n",
              " ('aggravate', -2.5),\n",
              " ('aggravated', -1.9),\n",
              " ('aggravates', -1.9),\n",
              " ('aggravating', -1.2),\n",
              " ('aggress', -1.3),\n",
              " ('aggressed', -1.4),\n",
              " ('aggresses', -0.5),\n",
              " ('aggressing', -0.6),\n",
              " ('aggression', -1.2),\n",
              " ('aggressions', -1.3),\n",
              " ('aggressive', -0.6),\n",
              " ('aggressively', -1.3),\n",
              " ('aggressiveness', -1.8),\n",
              " ('aggressivities', -1.4),\n",
              " ('aggressivity', -0.6),\n",
              " ('aggressor', -0.8),\n",
              " ('aggressors', -0.9),\n",
              " ('aghast', -1.9),\n",
              " ('agitate', -1.7),\n",
              " ('agitated', -2.0),\n",
              " ('agitatedly', -1.6),\n",
              " ('agitates', -1.4),\n",
              " ('agitating', -1.8),\n",
              " ('agitation', -1.0),\n",
              " ('agitational', -1.2),\n",
              " ('agitations', -1.3),\n",
              " ('agitative', -1.3),\n",
              " ('agitato', -0.1),\n",
              " ('agitator', -1.4),\n",
              " ('agitators', -2.1),\n",
              " ('agog', 1.9),\n",
              " ('agonise', -2.1),\n",
              " ('agonised', -2.3),\n",
              " ('agonises', -2.4),\n",
              " ('agonising', -1.5),\n",
              " ('agonize', -2.3),\n",
              " ('agonized', -2.2),\n",
              " ('agonizes', -2.3),\n",
              " ('agonizing', -2.7),\n",
              " ('agonizingly', -2.3),\n",
              " ('agony', -1.8),\n",
              " ('agree', 1.5),\n",
              " ('agreeability', 1.9),\n",
              " ('agreeable', 1.8),\n",
              " ('agreeableness', 1.8),\n",
              " ('agreeablenesses', 1.3),\n",
              " ('agreeably', 1.6),\n",
              " ('agreed', 1.1),\n",
              " ('agreeing', 1.4),\n",
              " ('agreement', 2.2),\n",
              " ('agreements', 1.1),\n",
              " ('agrees', 0.8),\n",
              " ('alarm', -1.4),\n",
              " ('alarmed', -1.4),\n",
              " ('alarming', -0.5),\n",
              " ('alarmingly', -2.6),\n",
              " ('alarmism', -0.3),\n",
              " ('alarmists', -1.1),\n",
              " ('alarms', -1.1),\n",
              " ('alas', -1.1),\n",
              " ('alert', 1.2),\n",
              " ('alienation', -1.1),\n",
              " ('alive', 1.6),\n",
              " ('allergic', -1.2),\n",
              " ('allow', 0.9),\n",
              " ('alone', -1.0),\n",
              " ('alright', 1.0),\n",
              " ('amaze', 2.5),\n",
              " ('amazed', 2.2),\n",
              " ('amazedly', 2.1),\n",
              " ('amazement', 2.5),\n",
              " ('amazements', 2.2),\n",
              " ('amazes', 2.2),\n",
              " ('amazing', 2.8),\n",
              " ('amazon', 0.7),\n",
              " ('amazonite', 0.2),\n",
              " ('amazons', -0.1),\n",
              " ('amazonstone', 1.0),\n",
              " ('amazonstones', 0.2),\n",
              " ('ambitious', 2.1),\n",
              " ('ambivalent', 0.5),\n",
              " ('amor', 3.0),\n",
              " ('amoral', -1.6),\n",
              " ('amoralism', -0.7),\n",
              " ('amoralisms', -0.7),\n",
              " ('amoralities', -1.2),\n",
              " ('amorality', -1.5),\n",
              " ('amorally', -1.0),\n",
              " ('amoretti', 0.2),\n",
              " ('amoretto', 0.6),\n",
              " ('amorettos', 0.3),\n",
              " ('amorino', 1.2),\n",
              " ('amorist', 1.6),\n",
              " ('amoristic', 1.0),\n",
              " ('amorists', 0.1),\n",
              " ('amoroso', 2.3),\n",
              " ('amorous', 1.8),\n",
              " ('amorously', 2.3),\n",
              " ('amorousness', 2.0),\n",
              " ('amorphous', -0.2),\n",
              " ('amorphously', 0.1),\n",
              " ('amorphousness', 0.3),\n",
              " ('amort', -2.1),\n",
              " ('amortise', 0.5),\n",
              " ('amortised', -0.2),\n",
              " ('amortises', 0.1),\n",
              " ('amortizable', 0.5),\n",
              " ('amortization', 0.6),\n",
              " ('amortizations', 0.2),\n",
              " ('amortize', -0.1),\n",
              " ('amortized', 0.8),\n",
              " ('amortizes', 0.6),\n",
              " ('amortizing', 0.8),\n",
              " ('amusable', 0.7),\n",
              " ('amuse', 1.7),\n",
              " ('amused', 1.8),\n",
              " ('amusedly', 2.2),\n",
              " ('amusement', 1.5),\n",
              " ('amusements', 1.5),\n",
              " ('amuser', 1.1),\n",
              " ('amusers', 1.3),\n",
              " ('amuses', 1.7),\n",
              " ('amusia', 0.3),\n",
              " ('amusias', -0.4),\n",
              " ('amusing', 1.6),\n",
              " ('amusingly', 0.8),\n",
              " ('amusingness', 1.8),\n",
              " ('amusive', 1.7),\n",
              " ('anger', -2.7),\n",
              " ('angered', -2.3),\n",
              " ('angering', -2.2),\n",
              " ('angerly', -1.9),\n",
              " ('angers', -2.3),\n",
              " ('angrier', -2.3),\n",
              " ('angriest', -3.1),\n",
              " ('angrily', -1.8),\n",
              " ('angriness', -1.7),\n",
              " ('angry', -2.3),\n",
              " ('anguish', -2.9),\n",
              " ('anguished', -1.8),\n",
              " ('anguishes', -2.1),\n",
              " ('anguishing', -2.7),\n",
              " ('animosity', -1.9),\n",
              " ('annoy', -1.9),\n",
              " ('annoyance', -1.3),\n",
              " ('annoyances', -1.8),\n",
              " ('annoyed', -1.6),\n",
              " ('annoyer', -2.2),\n",
              " ('annoyers', -1.5),\n",
              " ('annoying', -1.7),\n",
              " ('annoys', -1.8),\n",
              " ('antagonism', -1.9),\n",
              " ('antagonisms', -1.2),\n",
              " ('antagonist', -1.9),\n",
              " ('antagonistic', -1.7),\n",
              " ('antagonistically', -2.2),\n",
              " ('antagonists', -1.7),\n",
              " ('antagonize', -2.0),\n",
              " ('antagonized', -1.4),\n",
              " ('antagonizes', -0.5),\n",
              " ('antagonizing', -2.7),\n",
              " ('anti', -1.3),\n",
              " ('anticipation', 0.4),\n",
              " ('anxieties', -0.6),\n",
              " ('anxiety', -0.7),\n",
              " ('anxious', -1.0),\n",
              " ('anxiously', -0.9),\n",
              " ('anxiousness', -1.0),\n",
              " ('aok', 2.0),\n",
              " ('apathetic', -1.2),\n",
              " ('apathetically', -0.4),\n",
              " ('apathies', -0.6),\n",
              " ('apathy', -1.2),\n",
              " ('apeshit', -0.9),\n",
              " ('apocalyptic', -3.4),\n",
              " ('apologise', 1.6),\n",
              " ('apologised', 0.4),\n",
              " ('apologises', 0.8),\n",
              " ('apologising', 0.2),\n",
              " ('apologize', 0.4),\n",
              " ('apologized', 1.3),\n",
              " ('apologizes', 1.5),\n",
              " ('apologizing', -0.3),\n",
              " ('apology', 0.2),\n",
              " ('appall', -2.4),\n",
              " ('appalled', -2.0),\n",
              " ('appalling', -1.5),\n",
              " ('appallingly', -2.0),\n",
              " ('appalls', -1.9),\n",
              " ('appease', 1.1),\n",
              " ('appeased', 0.9),\n",
              " ('appeases', 0.9),\n",
              " ('appeasing', 1.0),\n",
              " ('applaud', 2.0),\n",
              " ('applauded', 1.5),\n",
              " ('applauding', 2.1),\n",
              " ('applauds', 1.4),\n",
              " ('applause', 1.8),\n",
              " ('appreciate', 1.7),\n",
              " ('appreciated', 2.3),\n",
              " ('appreciates', 2.3),\n",
              " ('appreciating', 1.9),\n",
              " ('appreciation', 2.3),\n",
              " ('appreciations', 1.7),\n",
              " ('appreciative', 2.6),\n",
              " ('appreciatively', 1.8),\n",
              " ('appreciativeness', 1.6),\n",
              " ('appreciator', 2.6),\n",
              " ('appreciators', 1.5),\n",
              " ('appreciatory', 1.7),\n",
              " ('apprehensible', 1.1),\n",
              " ('apprehensibly', -0.2),\n",
              " ('apprehension', -2.1),\n",
              " ('apprehensions', -0.9),\n",
              " ('apprehensively', -0.3),\n",
              " ('apprehensiveness', -0.7),\n",
              " ('approval', 2.1),\n",
              " ('approved', 1.8),\n",
              " ('approves', 1.7),\n",
              " ('ardent', 2.1),\n",
              " ('arguable', -1.0),\n",
              " ('arguably', -1.0),\n",
              " ('argue', -1.4),\n",
              " ('argued', -1.5),\n",
              " ('arguer', -1.6),\n",
              " ('arguers', -1.4),\n",
              " ('argues', -1.6),\n",
              " ('arguing', -2.0),\n",
              " ('argument', -1.5),\n",
              " ('argumentative', -1.5),\n",
              " ('argumentatively', -1.8),\n",
              " ('argumentive', -1.5),\n",
              " ('arguments', -1.7),\n",
              " ('arrest', -1.4),\n",
              " ('arrested', -2.1),\n",
              " ('arrests', -1.9),\n",
              " ('arrogance', -2.4),\n",
              " ('arrogances', -1.9),\n",
              " ('arrogant', -2.2),\n",
              " ('arrogantly', -1.8),\n",
              " ('ashamed', -2.1),\n",
              " ('ashamedly', -1.7),\n",
              " ('ass', -2.5),\n",
              " ('assassination', -2.9),\n",
              " ('assassinations', -2.7),\n",
              " ('assault', -2.8),\n",
              " ('assaulted', -2.4),\n",
              " ('assaulting', -2.3),\n",
              " ('assaultive', -2.8),\n",
              " ('assaults', -2.5),\n",
              " ('asset', 1.5),\n",
              " ('assets', 0.7),\n",
              " ('assfucking', -2.5),\n",
              " ('assholes', -2.8),\n",
              " ('assurance', 1.4),\n",
              " ('assurances', 1.4),\n",
              " ('assure', 1.4),\n",
              " ('assured', 1.5),\n",
              " ('assuredly', 1.6),\n",
              " ('assuredness', 1.4),\n",
              " ('assurer', 0.9),\n",
              " ('assurers', 1.1),\n",
              " ('assures', 1.3),\n",
              " ('assurgent', 1.3),\n",
              " ('assuring', 1.6),\n",
              " ('assuror', 0.5),\n",
              " ('assurors', 0.7),\n",
              " ('astonished', 1.6),\n",
              " ('astound', 1.7),\n",
              " ('astounded', 1.8),\n",
              " ('astounding', 1.8),\n",
              " ('astoundingly', 2.1),\n",
              " ('astounds', 2.1),\n",
              " ('attachment', 1.2),\n",
              " ('attachments', 1.1),\n",
              " ('attack', -2.1),\n",
              " ('attacked', -2.0),\n",
              " ('attacker', -2.7),\n",
              " ('attackers', -2.7),\n",
              " ('attacking', -2.0),\n",
              " ('attacks', -1.9),\n",
              " ('attract', 1.5),\n",
              " ('attractancy', 0.9),\n",
              " ('attractant', 1.3),\n",
              " ('attractants', 1.4),\n",
              " ('attracted', 1.8),\n",
              " ('attracting', 2.1),\n",
              " ('attraction', 2.0),\n",
              " ('attractions', 1.8),\n",
              " ('attractive', 1.9),\n",
              " ('attractively', 2.2),\n",
              " ('attractiveness', 1.8),\n",
              " ('attractivenesses', 2.1),\n",
              " ('attractor', 1.2),\n",
              " ('attractors', 1.2),\n",
              " ('attracts', 1.7),\n",
              " ('audacious', 0.9),\n",
              " ('authority', 0.3),\n",
              " ('aversion', -1.9),\n",
              " ('aversions', -1.1),\n",
              " ('aversive', -1.6),\n",
              " ('aversively', -0.8),\n",
              " ('avert', -0.7),\n",
              " ('averted', -0.3),\n",
              " ('averts', -0.4),\n",
              " ('avid', 1.2),\n",
              " ('avoid', -1.2),\n",
              " ('avoidance', -1.7),\n",
              " ('avoidances', -1.1),\n",
              " ('avoided', -1.4),\n",
              " ('avoider', -1.8),\n",
              " ('avoiders', -1.4),\n",
              " ('avoiding', -1.4),\n",
              " ('avoids', -0.7),\n",
              " ('await', 0.4),\n",
              " ('awaited', -0.1),\n",
              " ('awaits', 0.3),\n",
              " ('award', 2.5),\n",
              " ('awardable', 2.4),\n",
              " ('awarded', 1.7),\n",
              " ('awardee', 1.8),\n",
              " ('awardees', 1.2),\n",
              " ('awarder', 0.9),\n",
              " ('awarders', 1.3),\n",
              " ('awarding', 1.9),\n",
              " ('awards', 2.0),\n",
              " ('awesome', 3.1),\n",
              " ('awful', -2.0),\n",
              " ('awkward', -0.6),\n",
              " ('awkwardly', -1.3),\n",
              " ('awkwardness', -0.7),\n",
              " ('axe', -0.4),\n",
              " ('axed', -1.3),\n",
              " ('backed', 0.1),\n",
              " ('backing', 0.1),\n",
              " ('backs', -0.2),\n",
              " ('bad', -2.5),\n",
              " ('badass', -0.6),\n",
              " ('badly', -2.1),\n",
              " ('bailout', -0.4),\n",
              " ('bamboozle', -1.5),\n",
              " ('bamboozled', -1.5),\n",
              " ('bamboozles', -1.5),\n",
              " ('ban', -2.6),\n",
              " ('banish', -1.9),\n",
              " ('bankrupt', -2.6),\n",
              " ('bankster', -2.1),\n",
              " ('banned', -2.0),\n",
              " ('bargain', 0.8),\n",
              " ('barrier', -0.5),\n",
              " ('bashful', -0.1),\n",
              " ('bashfully', 0.2),\n",
              " ('bashfulness', -0.8),\n",
              " ('bastard', -2.5),\n",
              " ('bastardies', -1.8),\n",
              " ('bastardise', -2.1),\n",
              " ('bastardised', -2.3),\n",
              " ('bastardises', -2.3),\n",
              " ('bastardising', -2.6),\n",
              " ('bastardization', -2.4),\n",
              " ('bastardizations', -2.1),\n",
              " ('bastardize', -2.4),\n",
              " ('bastardized', -2.0),\n",
              " ('bastardizes', -1.8),\n",
              " ('bastardizing', -2.3),\n",
              " ('bastardly', -2.7),\n",
              " ('bastards', -3.0),\n",
              " ('bastardy', -2.7),\n",
              " ('battle', -1.6),\n",
              " ('battled', -1.2),\n",
              " ('battlefield', -1.6),\n",
              " ('battlefields', -0.9),\n",
              " ('battlefront', -1.2),\n",
              " ('battlefronts', -0.8),\n",
              " ('battleground', -1.7),\n",
              " ('battlegrounds', -0.6),\n",
              " ('battlement', -0.4),\n",
              " ('battlements', -0.4),\n",
              " ('battler', -0.8),\n",
              " ('battlers', -0.2),\n",
              " ('battles', -1.6),\n",
              " ('battleship', -0.1),\n",
              " ('battleships', -0.5),\n",
              " ('battlewagon', -0.3),\n",
              " ('battlewagons', -0.5),\n",
              " ('battling', -1.1),\n",
              " ('beaten', -1.8),\n",
              " ('beatific', 1.8),\n",
              " ('beating', -2.0),\n",
              " ('beaut', 1.6),\n",
              " ('beauteous', 2.5),\n",
              " ('beauteously', 2.6),\n",
              " ('beauteousness', 2.7),\n",
              " ('beautician', 1.2),\n",
              " ('beauticians', 0.4),\n",
              " ...]"
            ]
          },
          "metadata": {},
          "execution_count": 2
        }
      ]
    },
    {
      "cell_type": "code",
      "source": [
        "### get sentiment score for specific word\n",
        "word = \"sad\"\n",
        "score = vader_lexicon.get(word)\n",
        "print(f\"Sentiment score for '{word}': {score}\")"
      ],
      "metadata": {
        "colab": {
          "base_uri": "https://localhost:8080/"
        },
        "id": "GsneWA827wop",
        "outputId": "5bd0fc16-2859-4937-bcd9-aa43fea56684"
      },
      "execution_count": null,
      "outputs": [
        {
          "output_type": "stream",
          "name": "stdout",
          "text": [
            "Sentiment score for 'sad': -2.1\n"
          ]
        }
      ]
    },
    {
      "cell_type": "markdown",
      "source": [
        "## 3. Conduct Sentiment Analysis with VADER sentiment analyzer\n",
        "\n"
      ],
      "metadata": {
        "id": "6FpyY2DT9rsz"
      }
    },
    {
      "cell_type": "code",
      "source": [
        "### initialize VADER sentiment analyzer\n",
        "sia = SentimentIntensityAnalyzer()\n",
        "\n",
        "### example sentences\n",
        "sentences = [\n",
        "    \"I absolutely love this product! It works perfectly.\",\n",
        "    \"This was a terrible experience, I would not recommend it to anyone.\",\n",
        "    \"The service was okay, not great but not bad either.\",\n",
        "    \"Wow, what an amazing day!\",\n",
        "    \"I don't think I will buy this again.\"\n",
        "]\n",
        "\n",
        "\n",
        "### analyze each sentence\n",
        "for sentence in sentences:\n",
        "    sentiment_scores = sia.polarity_scores(sentence)\n",
        "    print(f\"Sentence: {sentence}\")\n",
        "    print(f\"Sentiment Scores: {sentiment_scores}\\n\")\n",
        "\n",
        "### compound: normalized score rangin from -1 to +1"
      ],
      "metadata": {
        "colab": {
          "base_uri": "https://localhost:8080/"
        },
        "id": "BpPb1dgH5kjY",
        "outputId": "64ca1805-2065-4f5f-aa1f-a04db68685f7"
      },
      "execution_count": null,
      "outputs": [
        {
          "output_type": "stream",
          "name": "stdout",
          "text": [
            "Sentence: I absolutely love this product! It works perfectly.\n",
            "Sentiment Scores: {'neg': 0.0, 'neu': 0.358, 'pos': 0.642, 'compound': 0.8746}\n",
            "\n",
            "Sentence: This was a terrible experience, I would not recommend it to anyone.\n",
            "Sentiment Scores: {'neg': 0.394, 'neu': 0.606, 'pos': 0.0, 'compound': -0.6381}\n",
            "\n",
            "Sentence: The service was okay, not great but not bad either.\n",
            "Sentiment Scores: {'neg': 0.149, 'neu': 0.487, 'pos': 0.364, 'compound': 0.4728}\n",
            "\n",
            "Sentence: Wow, what an amazing day!\n",
            "Sentiment Scores: {'neg': 0.0, 'neu': 0.275, 'pos': 0.725, 'compound': 0.8356}\n",
            "\n",
            "Sentence: I don't think I will buy this again.\n",
            "Sentiment Scores: {'neg': 0.0, 'neu': 1.0, 'pos': 0.0, 'compound': 0.0}\n",
            "\n"
          ]
        }
      ]
    },
    {
      "cell_type": "markdown",
      "source": [
        "## 4. Explore Sentiment Distribution and Aspect Analysis"
      ],
      "metadata": {
        "id": "VM2d47YNCeML"
      }
    },
    {
      "cell_type": "code",
      "source": [
        "import matplotlib.pyplot as plt\n",
        "import seaborn as sns\n",
        "import pandas as pd\n",
        "import re\n",
        "\n",
        "\n",
        "### Function to preprocess sentences\n",
        "def preprocess_text(text):\n",
        "    text = re.sub(r\"\\b(can't|cannot|don't|didn't|won't|shouldn't|isn't)\\b\", \"not\", text)\n",
        "    return text\n",
        "\n",
        "### Function to classify sentiment based on compound score\n",
        "def classify_sentiment(score):\n",
        "    if score >= 0.05:\n",
        "        return 'Positive'\n",
        "    elif score <= -0.05:\n",
        "        return 'Negative'\n",
        "    else:\n",
        "        return 'Neutral'\n",
        "\n",
        "### Define list of aspects to check in sentences\n",
        "aspects = ['product', 'experience', 'service', 'camera', 'battery', 'support', 'shipping']\n",
        "\n",
        "### Initialize a list to store results\n",
        "results = []\n",
        "\n",
        "### analyze each sentence\n",
        "for sentence in sentences:\n",
        "    processed_sentence = preprocess_text(sentence)\n",
        "    sentiment_scores = sia.polarity_scores(processed_sentence)\n",
        "    sentiment = classify_sentiment(sentiment_scores['compound'])\n",
        "\n",
        "    ### identify aspects mentioned in the sentence\n",
        "    aspect_sentiments = {}\n",
        "    for aspect in aspects:\n",
        "        if aspect in processed_sentence.lower():\n",
        "            ### extract sentiment score specific to aspect\n",
        "            aspect_sentiments[aspect] = sentiment_scores['compound']\n",
        "\n",
        "    ### add results to list\n",
        "    results.append({\n",
        "        'Sentence': sentence,\n",
        "        'Processed Sentence': processed_sentence,\n",
        "        'Compound Score': sentiment_scores['compound'],\n",
        "        'Sentiment': sentiment,\n",
        "        'Aspect Sentiments': aspect_sentiments\n",
        "    })\n",
        "\n",
        "### convert results to a DataFrame for easier analysis\n",
        "df_results = pd.DataFrame(results)\n",
        "df_results"
      ],
      "metadata": {
        "colab": {
          "base_uri": "https://localhost:8080/",
          "height": 206
        },
        "id": "Jk1lbOuO2LNF",
        "outputId": "e1c38152-a103-4ea4-b470-ed283271f3f9"
      },
      "execution_count": null,
      "outputs": [
        {
          "output_type": "execute_result",
          "data": {
            "text/plain": [
              "                                            Sentence  \\\n",
              "0  I absolutely love this product! It works perfe...   \n",
              "1  This was a terrible experience, I would not re...   \n",
              "2  The service was okay, not great but not bad ei...   \n",
              "3                          Wow, what an amazing day!   \n",
              "4               I don't think I will buy this again.   \n",
              "\n",
              "                                  Processed Sentence  Compound Score  \\\n",
              "0  I absolutely love this product! It works perfe...          0.8746   \n",
              "1  This was a terrible experience, I would not re...         -0.6381   \n",
              "2  The service was okay, not great but not bad ei...          0.4728   \n",
              "3                          Wow, what an amazing day!          0.8356   \n",
              "4                 I not think I will buy this again.          0.0000   \n",
              "\n",
              "  Sentiment        Aspect Sentiments  \n",
              "0  Positive      {'product': 0.8746}  \n",
              "1  Negative  {'experience': -0.6381}  \n",
              "2  Positive      {'service': 0.4728}  \n",
              "3  Positive                       {}  \n",
              "4   Neutral                       {}  "
            ],
            "text/html": [
              "\n",
              "  <div id=\"df-adaaff6c-61c2-40b3-a234-013ca3dcb95b\" class=\"colab-df-container\">\n",
              "    <div>\n",
              "<style scoped>\n",
              "    .dataframe tbody tr th:only-of-type {\n",
              "        vertical-align: middle;\n",
              "    }\n",
              "\n",
              "    .dataframe tbody tr th {\n",
              "        vertical-align: top;\n",
              "    }\n",
              "\n",
              "    .dataframe thead th {\n",
              "        text-align: right;\n",
              "    }\n",
              "</style>\n",
              "<table border=\"1\" class=\"dataframe\">\n",
              "  <thead>\n",
              "    <tr style=\"text-align: right;\">\n",
              "      <th></th>\n",
              "      <th>Sentence</th>\n",
              "      <th>Processed Sentence</th>\n",
              "      <th>Compound Score</th>\n",
              "      <th>Sentiment</th>\n",
              "      <th>Aspect Sentiments</th>\n",
              "    </tr>\n",
              "  </thead>\n",
              "  <tbody>\n",
              "    <tr>\n",
              "      <th>0</th>\n",
              "      <td>I absolutely love this product! It works perfe...</td>\n",
              "      <td>I absolutely love this product! It works perfe...</td>\n",
              "      <td>0.8746</td>\n",
              "      <td>Positive</td>\n",
              "      <td>{'product': 0.8746}</td>\n",
              "    </tr>\n",
              "    <tr>\n",
              "      <th>1</th>\n",
              "      <td>This was a terrible experience, I would not re...</td>\n",
              "      <td>This was a terrible experience, I would not re...</td>\n",
              "      <td>-0.6381</td>\n",
              "      <td>Negative</td>\n",
              "      <td>{'experience': -0.6381}</td>\n",
              "    </tr>\n",
              "    <tr>\n",
              "      <th>2</th>\n",
              "      <td>The service was okay, not great but not bad ei...</td>\n",
              "      <td>The service was okay, not great but not bad ei...</td>\n",
              "      <td>0.4728</td>\n",
              "      <td>Positive</td>\n",
              "      <td>{'service': 0.4728}</td>\n",
              "    </tr>\n",
              "    <tr>\n",
              "      <th>3</th>\n",
              "      <td>Wow, what an amazing day!</td>\n",
              "      <td>Wow, what an amazing day!</td>\n",
              "      <td>0.8356</td>\n",
              "      <td>Positive</td>\n",
              "      <td>{}</td>\n",
              "    </tr>\n",
              "    <tr>\n",
              "      <th>4</th>\n",
              "      <td>I don't think I will buy this again.</td>\n",
              "      <td>I not think I will buy this again.</td>\n",
              "      <td>0.0000</td>\n",
              "      <td>Neutral</td>\n",
              "      <td>{}</td>\n",
              "    </tr>\n",
              "  </tbody>\n",
              "</table>\n",
              "</div>\n",
              "    <div class=\"colab-df-buttons\">\n",
              "\n",
              "  <div class=\"colab-df-container\">\n",
              "    <button class=\"colab-df-convert\" onclick=\"convertToInteractive('df-adaaff6c-61c2-40b3-a234-013ca3dcb95b')\"\n",
              "            title=\"Convert this dataframe to an interactive table.\"\n",
              "            style=\"display:none;\">\n",
              "\n",
              "  <svg xmlns=\"http://www.w3.org/2000/svg\" height=\"24px\" viewBox=\"0 -960 960 960\">\n",
              "    <path d=\"M120-120v-720h720v720H120Zm60-500h600v-160H180v160Zm220 220h160v-160H400v160Zm0 220h160v-160H400v160ZM180-400h160v-160H180v160Zm440 0h160v-160H620v160ZM180-180h160v-160H180v160Zm440 0h160v-160H620v160Z\"/>\n",
              "  </svg>\n",
              "    </button>\n",
              "\n",
              "  <style>\n",
              "    .colab-df-container {\n",
              "      display:flex;\n",
              "      gap: 12px;\n",
              "    }\n",
              "\n",
              "    .colab-df-convert {\n",
              "      background-color: #E8F0FE;\n",
              "      border: none;\n",
              "      border-radius: 50%;\n",
              "      cursor: pointer;\n",
              "      display: none;\n",
              "      fill: #1967D2;\n",
              "      height: 32px;\n",
              "      padding: 0 0 0 0;\n",
              "      width: 32px;\n",
              "    }\n",
              "\n",
              "    .colab-df-convert:hover {\n",
              "      background-color: #E2EBFA;\n",
              "      box-shadow: 0px 1px 2px rgba(60, 64, 67, 0.3), 0px 1px 3px 1px rgba(60, 64, 67, 0.15);\n",
              "      fill: #174EA6;\n",
              "    }\n",
              "\n",
              "    .colab-df-buttons div {\n",
              "      margin-bottom: 4px;\n",
              "    }\n",
              "\n",
              "    [theme=dark] .colab-df-convert {\n",
              "      background-color: #3B4455;\n",
              "      fill: #D2E3FC;\n",
              "    }\n",
              "\n",
              "    [theme=dark] .colab-df-convert:hover {\n",
              "      background-color: #434B5C;\n",
              "      box-shadow: 0px 1px 3px 1px rgba(0, 0, 0, 0.15);\n",
              "      filter: drop-shadow(0px 1px 2px rgba(0, 0, 0, 0.3));\n",
              "      fill: #FFFFFF;\n",
              "    }\n",
              "  </style>\n",
              "\n",
              "    <script>\n",
              "      const buttonEl =\n",
              "        document.querySelector('#df-adaaff6c-61c2-40b3-a234-013ca3dcb95b button.colab-df-convert');\n",
              "      buttonEl.style.display =\n",
              "        google.colab.kernel.accessAllowed ? 'block' : 'none';\n",
              "\n",
              "      async function convertToInteractive(key) {\n",
              "        const element = document.querySelector('#df-adaaff6c-61c2-40b3-a234-013ca3dcb95b');\n",
              "        const dataTable =\n",
              "          await google.colab.kernel.invokeFunction('convertToInteractive',\n",
              "                                                    [key], {});\n",
              "        if (!dataTable) return;\n",
              "\n",
              "        const docLinkHtml = 'Like what you see? Visit the ' +\n",
              "          '<a target=\"_blank\" href=https://colab.research.google.com/notebooks/data_table.ipynb>data table notebook</a>'\n",
              "          + ' to learn more about interactive tables.';\n",
              "        element.innerHTML = '';\n",
              "        dataTable['output_type'] = 'display_data';\n",
              "        await google.colab.output.renderOutput(dataTable, element);\n",
              "        const docLink = document.createElement('div');\n",
              "        docLink.innerHTML = docLinkHtml;\n",
              "        element.appendChild(docLink);\n",
              "      }\n",
              "    </script>\n",
              "  </div>\n",
              "\n",
              "\n",
              "<div id=\"df-bc4665bb-3de0-4387-8a79-f04b1a533cb3\">\n",
              "  <button class=\"colab-df-quickchart\" onclick=\"quickchart('df-bc4665bb-3de0-4387-8a79-f04b1a533cb3')\"\n",
              "            title=\"Suggest charts\"\n",
              "            style=\"display:none;\">\n",
              "\n",
              "<svg xmlns=\"http://www.w3.org/2000/svg\" height=\"24px\"viewBox=\"0 0 24 24\"\n",
              "     width=\"24px\">\n",
              "    <g>\n",
              "        <path d=\"M19 3H5c-1.1 0-2 .9-2 2v14c0 1.1.9 2 2 2h14c1.1 0 2-.9 2-2V5c0-1.1-.9-2-2-2zM9 17H7v-7h2v7zm4 0h-2V7h2v10zm4 0h-2v-4h2v4z\"/>\n",
              "    </g>\n",
              "</svg>\n",
              "  </button>\n",
              "\n",
              "<style>\n",
              "  .colab-df-quickchart {\n",
              "      --bg-color: #E8F0FE;\n",
              "      --fill-color: #1967D2;\n",
              "      --hover-bg-color: #E2EBFA;\n",
              "      --hover-fill-color: #174EA6;\n",
              "      --disabled-fill-color: #AAA;\n",
              "      --disabled-bg-color: #DDD;\n",
              "  }\n",
              "\n",
              "  [theme=dark] .colab-df-quickchart {\n",
              "      --bg-color: #3B4455;\n",
              "      --fill-color: #D2E3FC;\n",
              "      --hover-bg-color: #434B5C;\n",
              "      --hover-fill-color: #FFFFFF;\n",
              "      --disabled-bg-color: #3B4455;\n",
              "      --disabled-fill-color: #666;\n",
              "  }\n",
              "\n",
              "  .colab-df-quickchart {\n",
              "    background-color: var(--bg-color);\n",
              "    border: none;\n",
              "    border-radius: 50%;\n",
              "    cursor: pointer;\n",
              "    display: none;\n",
              "    fill: var(--fill-color);\n",
              "    height: 32px;\n",
              "    padding: 0;\n",
              "    width: 32px;\n",
              "  }\n",
              "\n",
              "  .colab-df-quickchart:hover {\n",
              "    background-color: var(--hover-bg-color);\n",
              "    box-shadow: 0 1px 2px rgba(60, 64, 67, 0.3), 0 1px 3px 1px rgba(60, 64, 67, 0.15);\n",
              "    fill: var(--button-hover-fill-color);\n",
              "  }\n",
              "\n",
              "  .colab-df-quickchart-complete:disabled,\n",
              "  .colab-df-quickchart-complete:disabled:hover {\n",
              "    background-color: var(--disabled-bg-color);\n",
              "    fill: var(--disabled-fill-color);\n",
              "    box-shadow: none;\n",
              "  }\n",
              "\n",
              "  .colab-df-spinner {\n",
              "    border: 2px solid var(--fill-color);\n",
              "    border-color: transparent;\n",
              "    border-bottom-color: var(--fill-color);\n",
              "    animation:\n",
              "      spin 1s steps(1) infinite;\n",
              "  }\n",
              "\n",
              "  @keyframes spin {\n",
              "    0% {\n",
              "      border-color: transparent;\n",
              "      border-bottom-color: var(--fill-color);\n",
              "      border-left-color: var(--fill-color);\n",
              "    }\n",
              "    20% {\n",
              "      border-color: transparent;\n",
              "      border-left-color: var(--fill-color);\n",
              "      border-top-color: var(--fill-color);\n",
              "    }\n",
              "    30% {\n",
              "      border-color: transparent;\n",
              "      border-left-color: var(--fill-color);\n",
              "      border-top-color: var(--fill-color);\n",
              "      border-right-color: var(--fill-color);\n",
              "    }\n",
              "    40% {\n",
              "      border-color: transparent;\n",
              "      border-right-color: var(--fill-color);\n",
              "      border-top-color: var(--fill-color);\n",
              "    }\n",
              "    60% {\n",
              "      border-color: transparent;\n",
              "      border-right-color: var(--fill-color);\n",
              "    }\n",
              "    80% {\n",
              "      border-color: transparent;\n",
              "      border-right-color: var(--fill-color);\n",
              "      border-bottom-color: var(--fill-color);\n",
              "    }\n",
              "    90% {\n",
              "      border-color: transparent;\n",
              "      border-bottom-color: var(--fill-color);\n",
              "    }\n",
              "  }\n",
              "</style>\n",
              "\n",
              "  <script>\n",
              "    async function quickchart(key) {\n",
              "      const quickchartButtonEl =\n",
              "        document.querySelector('#' + key + ' button');\n",
              "      quickchartButtonEl.disabled = true;  // To prevent multiple clicks.\n",
              "      quickchartButtonEl.classList.add('colab-df-spinner');\n",
              "      try {\n",
              "        const charts = await google.colab.kernel.invokeFunction(\n",
              "            'suggestCharts', [key], {});\n",
              "      } catch (error) {\n",
              "        console.error('Error during call to suggestCharts:', error);\n",
              "      }\n",
              "      quickchartButtonEl.classList.remove('colab-df-spinner');\n",
              "      quickchartButtonEl.classList.add('colab-df-quickchart-complete');\n",
              "    }\n",
              "    (() => {\n",
              "      let quickchartButtonEl =\n",
              "        document.querySelector('#df-bc4665bb-3de0-4387-8a79-f04b1a533cb3 button');\n",
              "      quickchartButtonEl.style.display =\n",
              "        google.colab.kernel.accessAllowed ? 'block' : 'none';\n",
              "    })();\n",
              "  </script>\n",
              "</div>\n",
              "\n",
              "  <div id=\"id_7f2a64f7-4a03-4ac8-951d-78c9516bfc67\">\n",
              "    <style>\n",
              "      .colab-df-generate {\n",
              "        background-color: #E8F0FE;\n",
              "        border: none;\n",
              "        border-radius: 50%;\n",
              "        cursor: pointer;\n",
              "        display: none;\n",
              "        fill: #1967D2;\n",
              "        height: 32px;\n",
              "        padding: 0 0 0 0;\n",
              "        width: 32px;\n",
              "      }\n",
              "\n",
              "      .colab-df-generate:hover {\n",
              "        background-color: #E2EBFA;\n",
              "        box-shadow: 0px 1px 2px rgba(60, 64, 67, 0.3), 0px 1px 3px 1px rgba(60, 64, 67, 0.15);\n",
              "        fill: #174EA6;\n",
              "      }\n",
              "\n",
              "      [theme=dark] .colab-df-generate {\n",
              "        background-color: #3B4455;\n",
              "        fill: #D2E3FC;\n",
              "      }\n",
              "\n",
              "      [theme=dark] .colab-df-generate:hover {\n",
              "        background-color: #434B5C;\n",
              "        box-shadow: 0px 1px 3px 1px rgba(0, 0, 0, 0.15);\n",
              "        filter: drop-shadow(0px 1px 2px rgba(0, 0, 0, 0.3));\n",
              "        fill: #FFFFFF;\n",
              "      }\n",
              "    </style>\n",
              "    <button class=\"colab-df-generate\" onclick=\"generateWithVariable('df_results')\"\n",
              "            title=\"Generate code using this dataframe.\"\n",
              "            style=\"display:none;\">\n",
              "\n",
              "  <svg xmlns=\"http://www.w3.org/2000/svg\" height=\"24px\"viewBox=\"0 0 24 24\"\n",
              "       width=\"24px\">\n",
              "    <path d=\"M7,19H8.4L18.45,9,17,7.55,7,17.6ZM5,21V16.75L18.45,3.32a2,2,0,0,1,2.83,0l1.4,1.43a1.91,1.91,0,0,1,.58,1.4,1.91,1.91,0,0,1-.58,1.4L9.25,21ZM18.45,9,17,7.55Zm-12,3A5.31,5.31,0,0,0,4.9,8.1,5.31,5.31,0,0,0,1,6.5,5.31,5.31,0,0,0,4.9,4.9,5.31,5.31,0,0,0,6.5,1,5.31,5.31,0,0,0,8.1,4.9,5.31,5.31,0,0,0,12,6.5,5.46,5.46,0,0,0,6.5,12Z\"/>\n",
              "  </svg>\n",
              "    </button>\n",
              "    <script>\n",
              "      (() => {\n",
              "      const buttonEl =\n",
              "        document.querySelector('#id_7f2a64f7-4a03-4ac8-951d-78c9516bfc67 button.colab-df-generate');\n",
              "      buttonEl.style.display =\n",
              "        google.colab.kernel.accessAllowed ? 'block' : 'none';\n",
              "\n",
              "      buttonEl.onclick = () => {\n",
              "        google.colab.notebook.generateWithVariable('df_results');\n",
              "      }\n",
              "      })();\n",
              "    </script>\n",
              "  </div>\n",
              "\n",
              "    </div>\n",
              "  </div>\n"
            ],
            "application/vnd.google.colaboratory.intrinsic+json": {
              "type": "dataframe",
              "variable_name": "df_results",
              "summary": "{\n  \"name\": \"df_results\",\n  \"rows\": 5,\n  \"fields\": [\n    {\n      \"column\": \"Sentence\",\n      \"properties\": {\n        \"dtype\": \"string\",\n        \"num_unique_values\": 5,\n        \"samples\": [\n          \"This was a terrible experience, I would not recommend it to anyone.\",\n          \"I don't think I will buy this again.\",\n          \"The service was okay, not great but not bad either.\"\n        ],\n        \"semantic_type\": \"\",\n        \"description\": \"\"\n      }\n    },\n    {\n      \"column\": \"Processed Sentence\",\n      \"properties\": {\n        \"dtype\": \"string\",\n        \"num_unique_values\": 5,\n        \"samples\": [\n          \"This was a terrible experience, I would not recommend it to anyone.\",\n          \"I not think I will buy this again.\",\n          \"The service was okay, not great but not bad either.\"\n        ],\n        \"semantic_type\": \"\",\n        \"description\": \"\"\n      }\n    },\n    {\n      \"column\": \"Compound Score\",\n      \"properties\": {\n        \"dtype\": \"number\",\n        \"std\": 0.6357123500452072,\n        \"min\": -0.6381,\n        \"max\": 0.8746,\n        \"num_unique_values\": 5,\n        \"samples\": [\n          -0.6381,\n          0.0,\n          0.4728\n        ],\n        \"semantic_type\": \"\",\n        \"description\": \"\"\n      }\n    },\n    {\n      \"column\": \"Sentiment\",\n      \"properties\": {\n        \"dtype\": \"string\",\n        \"num_unique_values\": 3,\n        \"samples\": [\n          \"Positive\",\n          \"Negative\",\n          \"Neutral\"\n        ],\n        \"semantic_type\": \"\",\n        \"description\": \"\"\n      }\n    },\n    {\n      \"column\": \"Aspect Sentiments\",\n      \"properties\": {\n        \"dtype\": \"object\",\n        \"semantic_type\": \"\",\n        \"description\": \"\"\n      }\n    }\n  ]\n}"
            }
          },
          "metadata": {},
          "execution_count": 5
        }
      ]
    },
    {
      "cell_type": "code",
      "source": [
        "### Sentiment Distribution\n",
        "plt.figure(figsize=(8, 6))\n",
        "sns.countplot(data=df_results, x='Sentiment', palette='viridis')\n",
        "plt.title(\"Sentiment Distribution\")\n",
        "plt.xlabel(\"Sentiment\")\n",
        "plt.ylabel(\"Count\")\n",
        "plt.show()"
      ],
      "metadata": {
        "colab": {
          "base_uri": "https://localhost:8080/",
          "height": 671
        },
        "id": "w2aVlw3QBs_t",
        "outputId": "8f6cc15c-9fa8-48ed-fbe5-49f99b9d0972"
      },
      "execution_count": null,
      "outputs": [
        {
          "output_type": "stream",
          "name": "stderr",
          "text": [
            "<ipython-input-6-39142b5822a1>:3: FutureWarning: \n",
            "\n",
            "Passing `palette` without assigning `hue` is deprecated and will be removed in v0.14.0. Assign the `x` variable to `hue` and set `legend=False` for the same effect.\n",
            "\n",
            "  sns.countplot(data=df_results, x='Sentiment', palette='viridis')\n"
          ]
        },
        {
          "output_type": "display_data",
          "data": {
            "text/plain": [
              "<Figure size 800x600 with 1 Axes>"
            ],
            "image/png": "[encoded data removed]"
          },
          "metadata": {}
        }
      ]
    },
    {
      "cell_type": "markdown",
      "source": [
        "### Aspect Sentiment Heatmap"
      ],
      "metadata": {
        "id": "Ky0m2X0TB1tD"
      }
    },
    {
      "cell_type": "code",
      "source": [
        "### Prepare data for heatmap by converting aspect sentiments to DataFrame\n",
        "aspect_data = pd.DataFrame(df_results['Aspect Sentiments'].tolist()).fillna(0)\n",
        "plt.figure(figsize=(10, 6))\n",
        "sns.heatmap(aspect_data, annot=True, cmap='coolwarm', center=0)\n",
        "plt.title(\"Aspect-Based Sentiment Scores Heatmap\")\n",
        "plt.xlabel(\"Aspect\")\n",
        "plt.ylabel(\"Sentence Index\")\n",
        "plt.show()"
      ],
      "metadata": {
        "colab": {
          "base_uri": "https://localhost:8080/",
          "height": 564
        },
        "id": "kiIcrnopBw3e",
        "outputId": "8ac6242f-8d64-4129-eceb-3c12864bdff8"
      },
      "execution_count": null,
      "outputs": [
        {
          "output_type": "display_data",
          "data": {
            "text/plain": [
              "<Figure size 1000x600 with 2 Axes>"
            ],
            "image/png": "[encoded data removed]"
          },
          "metadata": {}
        }
      ]
    },
    {
      "cell_type": "markdown",
      "source": [
        "# **III. Sentiment Analysis with Machine Learning**"
      ],
      "metadata": {
        "id": "GVLS_C9Vhh3u"
      }
    },
    {
      "cell_type": "markdown",
      "source": [
        "### 1. Load Data"
      ],
      "metadata": {
        "id": "EIMn_mOIDx2T"
      }
    },
    {
      "cell_type": "code",
      "source": [
        "from datasets import load_dataset\n",
        "\n",
        "### Load Amazon Polarity dataset\n",
        "dataset = load_dataset(\"amazon_polarity\")\n",
        "dataset"
      ],
      "metadata": {
        "id": "EXtqfv2pzTCo",
        "colab": {
          "base_uri": "https://localhost:8080/",
          "height": 384
        },
        "outputId": "1421bcad-c102-4c17-ca6b-791df66ba11c"
      },
      "execution_count": null,
      "outputs": [
        {
          "output_type": "error",
          "ename": "ModuleNotFoundError",
          "evalue": "No module named 'datasets'",
          "traceback": [
            "\u001b[0;31m---------------------------------------------------------------------------\u001b[0m",
            "\u001b[0;31mModuleNotFoundError\u001b[0m                       Traceback (most recent call last)",
            "\u001b[0;32m<ipython-input-8-a662fdb6becc>\u001b[0m in \u001b[0;36m<cell line: 1>\u001b[0;34m()\u001b[0m\n\u001b[0;32m----> 1\u001b[0;31m \u001b[0;32mfrom\u001b[0m \u001b[0mdatasets\u001b[0m \u001b[0;32mimport\u001b[0m \u001b[0mload_dataset\u001b[0m\u001b[0;34m\u001b[0m\u001b[0;34m\u001b[0m\u001b[0m\n\u001b[0m\u001b[1;32m      2\u001b[0m \u001b[0;34m\u001b[0m\u001b[0m\n\u001b[1;32m      3\u001b[0m \u001b[0;31m### Load Amazon Polarity dataset\u001b[0m\u001b[0;34m\u001b[0m\u001b[0;34m\u001b[0m\u001b[0m\n\u001b[1;32m      4\u001b[0m \u001b[0mdataset\u001b[0m \u001b[0;34m=\u001b[0m \u001b[0mload_dataset\u001b[0m\u001b[0;34m(\u001b[0m\u001b[0;34m\"amazon_polarity\"\u001b[0m\u001b[0;34m)\u001b[0m\u001b[0;34m\u001b[0m\u001b[0;34m\u001b[0m\u001b[0m\n\u001b[1;32m      5\u001b[0m \u001b[0mdataset\u001b[0m\u001b[0;34m\u001b[0m\u001b[0;34m\u001b[0m\u001b[0m\n",
            "\u001b[0;31mModuleNotFoundError\u001b[0m: No module named 'datasets'",
            "",
            "\u001b[0;31m---------------------------------------------------------------------------\u001b[0;32m\nNOTE: If your import is failing due to a missing package, you can\nmanually install dependencies using either !pip or !apt.\n\nTo view examples of installing some common dependencies, click the\n\"Open Examples\" button below.\n\u001b[0;31m---------------------------------------------------------------------------\u001b[0m\n"
          ],
          "errorDetails": {
            "actions": [
              {
                "action": "open_url",
                "actionText": "Open Examples",
                "url": "/notebooks/snippets/importing_libraries.ipynb"
              }
            ]
          }
        }
      ]
    },
    {
      "cell_type": "markdown",
      "source": [
        "## 2. Explore Dataset"
      ],
      "metadata": {
        "id": "CU34n-JHEJbY"
      }
    },
    {
      "cell_type": "code",
      "source": [
        "### extract train data\n",
        "train_texts = dataset[\"train\"].shuffle(seed=42).select(range(10000))[\"content\"]\n",
        "train_labels = dataset[\"train\"].shuffle(seed=42).select(range(10000))[\"label\"]\n",
        "\n",
        "### extract train data\n",
        "test_texts = dataset[\"test\"].shuffle(seed=42).select(range(1000))[\"content\"]\n",
        "test_labels = dataset[\"test\"].shuffle(seed=42).select(range(1000))[\"label\"]\n",
        "\n",
        "### display sample of subset\n",
        "print(\"Training Text Sample:\", train_texts[:1])\n",
        "print(\"Training Label Sample:\", train_labels[:1])\n",
        "print(\"Test Text Sample:\", test_texts[:1])\n",
        "print(\"Test Label Sample:\", test_labels[:1])\n"
      ],
      "metadata": {
        "id": "Ae_YP7pJDwc_"
      },
      "execution_count": null,
      "outputs": []
    },
    {
      "cell_type": "markdown",
      "source": [
        "## 3. Preprocessing Text Data"
      ],
      "metadata": {
        "id": "eOnqvEsaMjxm"
      }
    },
    {
      "cell_type": "code",
      "source": [
        "import re\n",
        "from sklearn.feature_extraction.text import TfidfVectorizer\n",
        "\n",
        "### define custom tokenizer for full preprocessing\n",
        "def custom_tokenizer(text):\n",
        "    text = text.lower()\n",
        "    text = re.sub(r'\\b\\w*\\d\\w*\\b', '', text)\n",
        "    text = re.sub(r'[^\\w\\s]', '', text)\n",
        "    text = re.sub(r'\\s+', ' ', text).strip()\n",
        "    return text.split()\n",
        "\n",
        "### initialize TF-IDF vectorizer\n",
        "vectorizer = TfidfVectorizer(max_features=5000, stop_words=\"english\", tokenizer=custom_tokenizer, lowercase=False)\n",
        "\n",
        "### fit and transform training data, and transform test data\n",
        "X_train = vectorizer.fit_transform(train_texts)\n",
        "X_test = vectorizer.transform(test_texts)"
      ],
      "metadata": {
        "id": "ZmN8bnQbzXtH"
      },
      "execution_count": null,
      "outputs": []
    },
    {
      "cell_type": "code",
      "source": [
        "import pandas as pd\n",
        "\n",
        "\n",
        "### Convert TF-IDF matrix to dense format and create DataFrame\n",
        "X_train_dense = X_train.toarray()  # Convert sparse matrix to dense array\n",
        "df_tfidf = pd.DataFrame(X_train_dense, columns=vectorizer.get_feature_names_out())\n",
        "\n",
        "### Display the first few rows of the DataFrame\n",
        "df_tfidf"
      ],
      "metadata": {
        "id": "YawjOCFwMb0j"
      },
      "execution_count": null,
      "outputs": []
    },
    {
      "cell_type": "markdown",
      "source": [
        "## 4. Develop Machine Learning Models\n",
        "\n",
        "1. Logistic Regression\n",
        "2. Support Vector Machines\n",
        "3. Naive Bayes model\n",
        "4. Model Optimization"
      ],
      "metadata": {
        "id": "Mic93q3uPv2p"
      }
    },
    {
      "cell_type": "markdown",
      "source": [
        "### 4.1: Logistic Regression"
      ],
      "metadata": {
        "id": "ulxtZDvnQLug"
      }
    },
    {
      "cell_type": "code",
      "source": [
        "from sklearn.linear_model import LogisticRegression\n",
        "from sklearn.metrics import accuracy_score, classification_report\n",
        "\n",
        "### initialize and train Logistic Regression model\n",
        "lr_model = LogisticRegression(max_iter=1000)\n",
        "lr_model.fit(X_train, train_labels)\n",
        "\n",
        "### predict on test set\n",
        "lr_predictions = lr_model.predict(X_test)\n",
        "\n",
        "### Evaluate Logistic Regression model\n",
        "print(\"Logistic Regression Accuracy:\", accuracy_score(test_labels, lr_predictions))\n",
        "print(\"Logistic Regression Classification Report:\\n\", classification_report(test_labels, lr_predictions))"
      ],
      "metadata": {
        "id": "ZGPjHNqSzaH1"
      },
      "execution_count": null,
      "outputs": []
    },
    {
      "cell_type": "markdown",
      "source": [
        "### 4.2: Support Vector Machines"
      ],
      "metadata": {
        "id": "4-cZB71aQgQa"
      }
    },
    {
      "cell_type": "code",
      "source": [
        "from sklearn.svm import SVC\n",
        "\n",
        "### initialize and train the SVM model\n",
        "svm_model = SVC(kernel='linear')\n",
        "svm_model.fit(X_train, train_labels)\n",
        "\n",
        "### predict on test set\n",
        "svm_predictions = svm_model.predict(X_test)\n",
        "\n",
        "### evaluate SVM model\n",
        "print(\"SVM Accuracy:\", accuracy_score(test_labels, svm_predictions))\n",
        "print(\"SVM Classification Report:\\n\", classification_report(test_labels, svm_predictions))"
      ],
      "metadata": {
        "id": "sP3avKYbzeba"
      },
      "execution_count": null,
      "outputs": []
    },
    {
      "cell_type": "markdown",
      "source": [
        "### 4.3. Naive Bayes model"
      ],
      "metadata": {
        "id": "ShboMIuXQvqS"
      }
    },
    {
      "cell_type": "code",
      "source": [
        "from sklearn.naive_bayes import MultinomialNB\n",
        "\n",
        "### initialize and train Naive Bayes model\n",
        "nb_model = MultinomialNB()\n",
        "nb_model.fit(X_train, train_labels)\n",
        "\n",
        "### predict on test set\n",
        "nb_predictions = nb_model.predict(X_test)\n",
        "\n",
        "### evaluate Naive Bayes model\n",
        "print(\"Naive Bayes Accuracy:\", accuracy_score(test_labels, nb_predictions))\n",
        "print(\"Naive Bayes Classification Report:\\n\", classification_report(test_labels, nb_predictions))"
      ],
      "metadata": {
        "id": "JpILjYU7zg3w"
      },
      "execution_count": null,
      "outputs": []
    },
    {
      "cell_type": "markdown",
      "source": [
        "### 4.4. Model Optimization"
      ],
      "metadata": {
        "id": "xQS0KFfiRUdw"
      }
    },
    {
      "cell_type": "code",
      "source": [
        "from sklearn.model_selection import GridSearchCV\n",
        "\n",
        "### Define parameter grid\n",
        "param_grid = {'C': [0.01, 0.1, 1, 10, 100]}\n",
        "grid_search = GridSearchCV(LogisticRegression(max_iter=1000), param_grid, cv=3)\n",
        "grid_search.fit(X_train, train_labels)\n",
        "\n",
        "### Display best parameters\n",
        "print(\"Best parameters for Logistic Regression:\", grid_search.best_params_)\n",
        "\n",
        "optimized_lr_model = grid_search.best_estimator_"
      ],
      "metadata": {
        "id": "T6OQEjIvzjrh"
      },
      "execution_count": null,
      "outputs": []
    },
    {
      "cell_type": "code",
      "source": [
        "from sklearn.metrics import confusion_matrix, roc_auc_score, roc_curve\n",
        "\n",
        "### Predict on the test set\n",
        "optimized_lr_predictions = optimized_lr_model.predict(X_test)\n",
        "optimized_lr_probabilities = optimized_lr_model.predict_proba(X_test)[:, 1]\n"
      ],
      "metadata": {
        "id": "V0m1D60s0rco"
      },
      "execution_count": null,
      "outputs": []
    },
    {
      "cell_type": "code",
      "source": [
        "from sklearn.metrics import ConfusionMatrixDisplay\n",
        "\n",
        "### generate confusion matrix\n",
        "cm = confusion_matrix(test_labels, optimized_lr_predictions)\n",
        "\n",
        "### plot confusion matrix\n",
        "plt.figure(figsize=(6, 6))\n",
        "sns.heatmap(cm, annot=True, fmt=\"d\", cmap=\"Blues\", cbar=False, square=True)\n",
        "plt.title(\"Confusion Matrix\")\n",
        "plt.xlabel(\"Predicted Label\")\n",
        "plt.ylabel(\"True Label\")\n",
        "plt.show()"
      ],
      "metadata": {
        "id": "3ClGO3NU0sSG"
      },
      "execution_count": null,
      "outputs": []
    },
    {
      "cell_type": "code",
      "source": [
        "from sklearn.metrics import roc_curve, auc\n",
        "\n",
        "### calculate ROC curve and AUC score\n",
        "fpr, tpr, thresholds = roc_curve(test_labels, optimized_lr_probabilities)\n",
        "roc_auc = auc(fpr, tpr)\n",
        "\n",
        "### plot ROC curve\n",
        "plt.figure(figsize=(8, 6))\n",
        "plt.plot(fpr, tpr, label=f'Logistic Regression (AUC = {roc_auc:.2f})')\n",
        "plt.plot([0, 1], [0, 1], color='grey', linestyle='--')  # Diagonal line for reference\n",
        "plt.xlabel(\"False Positive Rate\")\n",
        "plt.ylabel(\"True Positive Rate\")\n",
        "plt.title(\"ROC Curve\")\n",
        "plt.legend(loc=\"lower right\")\n",
        "plt.show()"
      ],
      "metadata": {
        "id": "0qjYOzZm0uJn"
      },
      "execution_count": null,
      "outputs": []
    },
    {
      "cell_type": "code",
      "source": [
        "from sklearn.metrics import precision_recall_curve\n",
        "\n",
        "### calculate Precision-Recall curve\n",
        "precision, recall, _ = precision_recall_curve(test_labels, optimized_lr_probabilities)\n",
        "\n",
        "### plot Precision-Recall curve\n",
        "plt.figure(figsize=(8, 6))\n",
        "plt.plot(recall, precision, label='Logistic Regression')\n",
        "plt.xlabel(\"Recall\")\n",
        "plt.ylabel(\"Precision\")\n",
        "plt.title(\"Precision-Recall Curve\")\n",
        "plt.legend(loc=\"best\")\n",
        "plt.show()"
      ],
      "metadata": {
        "id": "yJLBPV480yvu"
      },
      "execution_count": null,
      "outputs": []
    },
    {
      "cell_type": "markdown",
      "source": [
        "# **III. Sentiment Analysis with Deep Learning from Hugging Face Models**"
      ],
      "metadata": {
        "id": "AuE47Glfl6jX"
      }
    },
    {
      "cell_type": "markdown",
      "source": [
        "## 1. Sentiment Analysis with Pipeline"
      ],
      "metadata": {
        "id": "G8WKOYtB2TL3"
      }
    },
    {
      "cell_type": "code",
      "source": [
        "### Install dependencies\n",
        "\n",
        "!pip install -q transformers\n",
        "!pip install emoji==0.6.0"
      ],
      "metadata": {
        "id": "-5Kezmi7lExQ"
      },
      "execution_count": null,
      "outputs": []
    },
    {
      "cell_type": "code",
      "execution_count": null,
      "metadata": {
        "id": "xJVNNe6Rjf5K"
      },
      "outputs": [],
      "source": [
        "### Sentiment Analysis with Pipeline without naming model\n",
        "\n",
        "from transformers import pipeline\n",
        "sentiment_pipeline = pipeline(\"sentiment-analysis\")\n",
        "data = [\"I love you\", \"I hate you\"]\n",
        "sentiment_pipeline(data)"
      ]
    },
    {
      "cell_type": "code",
      "source": [
        "### specify model\n",
        "sentiment_pipeline = pipeline(\"sentiment-analysis\", model=\"distilbert-base-uncased-finetuned-sst-2-english\")\n",
        "sentiment_pipeline(data)"
      ],
      "metadata": {
        "id": "AvO6t5tdkhXK"
      },
      "execution_count": null,
      "outputs": []
    },
    {
      "cell_type": "code",
      "source": [
        "### Let's Use Multilingual sentiment analysis model\n",
        "sentiment_pipeline = pipeline(\"sentiment-analysis\", model=\"nlptown/bert-base-multilingual-uncased-sentiment\")\n",
        "data = [\"Esto es increíble\",  \"Es un producto aceptable\", \"No me gusta este producto\"]\n",
        "sentiment_pipeline(data)"
      ],
      "metadata": {
        "id": "wHn2BdAb3SiE"
      },
      "execution_count": null,
      "outputs": []
    },
    {
      "cell_type": "code",
      "source": [
        "### Specify Spanish Sentiment Analysis Model\n",
        "sentiment_pipeline = pipeline(\"sentiment-analysis\", model=\"pysentimiento/robertuito-sentiment-analysis\")\n",
        "data = [\"Esto es increíble\", \"No me gusta este producto\"]\n",
        "sentiment_pipeline(data)\n",
        "\n",
        "\n",
        "### https://huggingface.co/pysentimiento/robertuito-sentiment-analysis"
      ],
      "metadata": {
        "id": "vQmLkvxo_HIS"
      },
      "execution_count": null,
      "outputs": []
    },
    {
      "cell_type": "code",
      "source": [
        "### Let's Use Another Model for Spanish\n",
        "sentiment_pipeline = pipeline(\"sentiment-analysis\", model=\"finiteautomata/beto-sentiment-analysis\")\n",
        "data = [\"Esto es increíble\", \"No me gusta este producto\"]\n",
        "sentiment_pipeline(data)"
      ],
      "metadata": {
        "id": "CQygeF5t_gSy"
      },
      "execution_count": null,
      "outputs": []
    },
    {
      "cell_type": "code",
      "source": [
        "### choose model for tweets\n",
        "specific_model = pipeline(model=\"finiteautomata/bertweet-base-sentiment-analysis\")\n",
        "data = [\"I love you\", \"I hate you\"]\n",
        "specific_model(data)"
      ],
      "metadata": {
        "id": "CJCze5O1kJoW"
      },
      "execution_count": null,
      "outputs": []
    },
    {
      "cell_type": "code",
      "source": [
        "### model with emojis\n",
        "specific_model = pipeline(\"sentiment-analysis\", model=\"finiteautomata/bertweet-base-sentiment-analysis\")\n",
        "data = [\"I love 😊😊😊\", \"I hate you 😠😠😠\"]\n",
        "specific_model(data)"
      ],
      "metadata": {
        "id": "b5sJIs9-lLrL"
      },
      "execution_count": null,
      "outputs": []
    },
    {
      "cell_type": "code",
      "source": [
        "### For specific Area: Financial Analysis\n",
        "\n",
        "from transformers import BertTokenizer, BertForSequenceClassification\n",
        "finbert = BertForSequenceClassification.from_pretrained('yiyanghkust/finbert-tone',num_labels=3)\n",
        "tokenizer = BertTokenizer.from_pretrained('yiyanghkust/finbert-tone')\n",
        "\n",
        "nlp = pipeline(\"sentiment-analysis\", model=finbert, tokenizer=tokenizer)\n",
        "\n",
        "sentences = [\"there is a shortage of capital, and we need extra financing\",\n",
        "             \"growth is strong and we have plenty of liquidity\",\n",
        "             \"there are doubts about our finances\",\n",
        "             \"profits are flat\"]\n",
        "results = nlp(sentences)\n",
        "print(results)"
      ],
      "metadata": {
        "id": "md0strEBgJTh"
      },
      "execution_count": null,
      "outputs": []
    },
    {
      "cell_type": "markdown",
      "source": [
        "##  2. Building Your Sentiment Analysis Model with Fine-tuning"
      ],
      "metadata": {
        "id": "Ir1-phuVpkXw"
      }
    },
    {
      "cell_type": "markdown",
      "source": [
        "### 2.1: Install Dependencies"
      ],
      "metadata": {
        "id": "SovYCSwaudAu"
      }
    },
    {
      "cell_type": "code",
      "source": [
        "!pip install datasets transformers huggingface_hub torch scikit-learn\n",
        "!apt-get install git-lfs"
      ],
      "metadata": {
        "colab": {
          "base_uri": "https://localhost:8080/"
        },
        "id": "7PwNd60mpkID",
        "outputId": "5fbf6838-3f54-40ec-9523-4a682d2775eb"
      },
      "execution_count": null,
      "outputs": [
        {
          "output_type": "stream",
          "name": "stdout",
          "text": [
            "Collecting datasets\n",
            "  Downloading datasets-3.1.0-py3-none-any.whl.metadata (20 kB)\n",
            "Requirement already satisfied: transformers in /usr/local/lib/python3.10/dist-packages (4.44.2)\n",
            "Requirement already satisfied: huggingface_hub in /usr/local/lib/python3.10/dist-packages (0.24.7)\n",
            "Requirement already satisfied: torch in /usr/local/lib/python3.10/dist-packages (2.5.0+cu121)\n",
            "Requirement already satisfied: scikit-learn in /usr/local/lib/python3.10/dist-packages (1.5.2)\n",
            "Requirement already satisfied: filelock in /usr/local/lib/python3.10/dist-packages (from datasets) (3.16.1)\n",
            "Requirement already satisfied: numpy>=1.17 in /usr/local/lib/python3.10/dist-packages (from datasets) (1.26.4)\n",
            "Requirement already satisfied: pyarrow>=15.0.0 in /usr/local/lib/python3.10/dist-packages (from datasets) (17.0.0)\n",
            "Collecting dill<0.3.9,>=0.3.0 (from datasets)\n",
            "  Downloading dill-0.3.8-py3-none-any.whl.metadata (10 kB)\n",
            "Requirement already satisfied: pandas in /usr/local/lib/python3.10/dist-packages (from datasets) (2.2.2)\n",
            "Requirement already satisfied: requests>=2.32.2 in /usr/local/lib/python3.10/dist-packages (from datasets) (2.32.3)\n",
            "Requirement already satisfied: tqdm>=4.66.3 in /usr/local/lib/python3.10/dist-packages (from datasets) (4.66.6)\n",
            "Collecting xxhash (from datasets)\n",
            "  Downloading xxhash-3.5.0-cp310-cp310-manylinux_2_17_x86_64.manylinux2014_x86_64.whl.metadata (12 kB)\n",
            "Collecting multiprocess<0.70.17 (from datasets)\n",
            "  Downloading multiprocess-0.70.16-py310-none-any.whl.metadata (7.2 kB)\n",
            "Collecting fsspec<=2024.9.0,>=2023.1.0 (from fsspec[http]<=2024.9.0,>=2023.1.0->datasets)\n",
            "  Downloading fsspec-2024.9.0-py3-none-any.whl.metadata (11 kB)\n",
            "Requirement already satisfied: aiohttp in /usr/local/lib/python3.10/dist-packages (from datasets) (3.10.10)\n",
            "Requirement already satisfied: packaging in /usr/local/lib/python3.10/dist-packages (from datasets) (24.1)\n",
            "Requirement already satisfied: pyyaml>=5.1 in /usr/local/lib/python3.10/dist-packages (from datasets) (6.0.2)\n",
            "Requirement already satisfied: regex!=2019.12.17 in /usr/local/lib/python3.10/dist-packages (from transformers) (2024.9.11)\n",
            "Requirement already satisfied: safetensors>=0.4.1 in /usr/local/lib/python3.10/dist-packages (from transformers) (0.4.5)\n",
            "Requirement already satisfied: tokenizers<0.20,>=0.19 in /usr/local/lib/python3.10/dist-packages (from transformers) (0.19.1)\n",
            "Requirement already satisfied: typing-extensions>=3.7.4.3 in /usr/local/lib/python3.10/dist-packages (from huggingface_hub) (4.12.2)\n",
            "Requirement already satisfied: networkx in /usr/local/lib/python3.10/dist-packages (from torch) (3.4.2)\n",
            "Requirement already satisfied: jinja2 in /usr/local/lib/python3.10/dist-packages (from torch) (3.1.4)\n",
            "Requirement already satisfied: sympy==1.13.1 in /usr/local/lib/python3.10/dist-packages (from torch) (1.13.1)\n",
            "Requirement already satisfied: mpmath<1.4,>=1.1.0 in /usr/local/lib/python3.10/dist-packages (from sympy==1.13.1->torch) (1.3.0)\n",
            "Requirement already satisfied: scipy>=1.6.0 in /usr/local/lib/python3.10/dist-packages (from scikit-learn) (1.13.1)\n",
            "Requirement already satisfied: joblib>=1.2.0 in /usr/local/lib/python3.10/dist-packages (from scikit-learn) (1.4.2)\n",
            "Requirement already satisfied: threadpoolctl>=3.1.0 in /usr/local/lib/python3.10/dist-packages (from scikit-learn) (3.5.0)\n",
            "Requirement already satisfied: aiohappyeyeballs>=2.3.0 in /usr/local/lib/python3.10/dist-packages (from aiohttp->datasets) (2.4.3)\n",
            "Requirement already satisfied: aiosignal>=1.1.2 in /usr/local/lib/python3.10/dist-packages (from aiohttp->datasets) (1.3.1)\n",
            "Requirement already satisfied: attrs>=17.3.0 in /usr/local/lib/python3.10/dist-packages (from aiohttp->datasets) (24.2.0)\n",
            "Requirement already satisfied: frozenlist>=1.1.1 in /usr/local/lib/python3.10/dist-packages (from aiohttp->datasets) (1.5.0)\n",
            "Requirement already satisfied: multidict<7.0,>=4.5 in /usr/local/lib/python3.10/dist-packages (from aiohttp->datasets) (6.1.0)\n",
            "Requirement already satisfied: yarl<2.0,>=1.12.0 in /usr/local/lib/python3.10/dist-packages (from aiohttp->datasets) (1.17.0)\n",
            "Requirement already satisfied: async-timeout<5.0,>=4.0 in /usr/local/lib/python3.10/dist-packages (from aiohttp->datasets) (4.0.3)\n",
            "Requirement already satisfied: charset-normalizer<4,>=2 in /usr/local/lib/python3.10/dist-packages (from requests>=2.32.2->datasets) (3.4.0)\n",
            "Requirement already satisfied: idna<4,>=2.5 in /usr/local/lib/python3.10/dist-packages (from requests>=2.32.2->datasets) (3.10)\n",
            "Requirement already satisfied: urllib3<3,>=1.21.1 in /usr/local/lib/python3.10/dist-packages (from requests>=2.32.2->datasets) (2.2.3)\n",
            "Requirement already satisfied: certifi>=2017.4.17 in /usr/local/lib/python3.10/dist-packages (from requests>=2.32.2->datasets) (2024.8.30)\n",
            "Requirement already satisfied: MarkupSafe>=2.0 in /usr/local/lib/python3.10/dist-packages (from jinja2->torch) (3.0.2)\n",
            "Requirement already satisfied: python-dateutil>=2.8.2 in /usr/local/lib/python3.10/dist-packages (from pandas->datasets) (2.8.2)\n",
            "Requirement already satisfied: pytz>=2020.1 in /usr/local/lib/python3.10/dist-packages (from pandas->datasets) (2024.2)\n",
            "Requirement already satisfied: tzdata>=2022.7 in /usr/local/lib/python3.10/dist-packages (from pandas->datasets) (2024.2)\n",
            "Requirement already satisfied: six>=1.5 in /usr/local/lib/python3.10/dist-packages (from python-dateutil>=2.8.2->pandas->datasets) (1.16.0)\n",
            "Requirement already satisfied: propcache>=0.2.0 in /usr/local/lib/python3.10/dist-packages (from yarl<2.0,>=1.12.0->aiohttp->datasets) (0.2.0)\n",
            "Downloading datasets-3.1.0-py3-none-any.whl (480 kB)\n",
            "\u001b[2K   \u001b[90m━━━━━━━━━━━━━━━━━━━━━━━━━━━━━━━━━━━━━━━━\u001b[0m \u001b[32m480.6/480.6 kB\u001b[0m \u001b[31m12.9 MB/s\u001b[0m eta \u001b[36m0:00:00\u001b[0m\n",
            "\u001b[?25hDownloading dill-0.3.8-py3-none-any.whl (116 kB)\n",
            "\u001b[2K   \u001b[90m━━━━━━━━━━━━━━━━━━━━━━━━━━━━━━━━━━━━━━━━\u001b[0m \u001b[32m116.3/116.3 kB\u001b[0m \u001b[31m10.2 MB/s\u001b[0m eta \u001b[36m0:00:00\u001b[0m\n",
            "\u001b[?25hDownloading fsspec-2024.9.0-py3-none-any.whl (179 kB)\n",
            "\u001b[2K   \u001b[90m━━━━━━━━━━━━━━━━━━━━━━━━━━━━━━━━━━━━━━━━\u001b[0m \u001b[32m179.3/179.3 kB\u001b[0m \u001b[31m16.2 MB/s\u001b[0m eta \u001b[36m0:00:00\u001b[0m\n",
            "\u001b[?25hDownloading multiprocess-0.70.16-py310-none-any.whl (134 kB)\n",
            "\u001b[2K   \u001b[90m━━━━━━━━━━━━━━━━━━━━━━━━━━━━━━━━━━━━━━━━\u001b[0m \u001b[32m134.8/134.8 kB\u001b[0m \u001b[31m12.4 MB/s\u001b[0m eta \u001b[36m0:00:00\u001b[0m\n",
            "\u001b[?25hDownloading xxhash-3.5.0-cp310-cp310-manylinux_2_17_x86_64.manylinux2014_x86_64.whl (194 kB)\n",
            "\u001b[2K   \u001b[90m━━━━━━━━━━━━━━━━━━━━━━━━━━━━━━━━━━━━━━━━\u001b[0m \u001b[32m194.1/194.1 kB\u001b[0m \u001b[31m17.6 MB/s\u001b[0m eta \u001b[36m0:00:00\u001b[0m\n",
            "\u001b[?25hInstalling collected packages: xxhash, fsspec, dill, multiprocess, datasets\n",
            "  Attempting uninstall: fsspec\n",
            "    Found existing installation: fsspec 2024.10.0\n",
            "    Uninstalling fsspec-2024.10.0:\n",
            "      Successfully uninstalled fsspec-2024.10.0\n",
            "\u001b[31mERROR: pip's dependency resolver does not currently take into account all the packages that are installed. This behaviour is the source of the following dependency conflicts.\n",
            "gcsfs 2024.10.0 requires fsspec==2024.10.0, but you have fsspec 2024.9.0 which is incompatible.\u001b[0m\u001b[31m\n",
            "\u001b[0mSuccessfully installed datasets-3.1.0 dill-0.3.8 fsspec-2024.9.0 multiprocess-0.70.16 xxhash-3.5.0\n",
            "Reading package lists... Done\n",
            "Building dependency tree... Done\n",
            "Reading state information... Done\n",
            "git-lfs is already the newest version (3.0.2-1ubuntu0.2).\n",
            "0 upgraded, 0 newly installed, 0 to remove and 49 not upgraded.\n"
          ]
        }
      ]
    },
    {
      "cell_type": "markdown",
      "source": [
        "### 2.2: Import and Explore Data"
      ],
      "metadata": {
        "id": "npHyeJ5wuYR1"
      }
    },
    {
      "cell_type": "code",
      "source": [
        "### load IMDB dataset\n",
        "from datasets import load_dataset\n",
        "\n",
        "dataset = load_dataset(\"imdb\")\n",
        "\n",
        "### subsample training and test sets\n",
        "train_sample = dataset[\"train\"].shuffle(seed=42).select(range(10000))\n",
        "test_sample = dataset[\"test\"].shuffle(seed=42).select(range(1000))"
      ],
      "metadata": {
        "id": "FxxS-UcruWUJ"
      },
      "execution_count": null,
      "outputs": []
    },
    {
      "cell_type": "code",
      "source": [
        "dataset.shape"
      ],
      "metadata": {
        "id": "3v6IYqtYujV2"
      },
      "execution_count": null,
      "outputs": []
    },
    {
      "cell_type": "code",
      "source": [
        "pd.DataFrame({'text':dataset['train'][:20]['text'],'label':dataset['train'][:20]['label']})"
      ],
      "metadata": {
        "id": "sKEhqf8ZqU0o"
      },
      "execution_count": null,
      "outputs": []
    },
    {
      "cell_type": "markdown",
      "source": [
        "### 2.3. Load Tokenizer and Model"
      ],
      "metadata": {
        "id": "_mZPbhFTU6XG"
      }
    },
    {
      "cell_type": "code",
      "source": [
        "from transformers import AutoTokenizer, AutoModelForSequenceClassification\n",
        "\n",
        "### load tokenizer and model\n",
        "model_name = \"distilbert-base-uncased\"\n",
        "\n",
        "tokenizer = AutoTokenizer.from_pretrained(model_name)\n",
        "model = AutoModelForSequenceClassification.from_pretrained(model_name, num_labels=2)"
      ],
      "metadata": {
        "id": "qEW5tntlU-1e"
      },
      "execution_count": null,
      "outputs": []
    },
    {
      "cell_type": "markdown",
      "source": [
        "### 2.4: Preprocess Text Data"
      ],
      "metadata": {
        "id": "TKSTF49styPV"
      }
    },
    {
      "cell_type": "code",
      "source": [
        "def preprocess_function(examples):\n",
        "    return tokenizer(examples[\"text\"], padding=\"max_length\", truncation=True, max_length=128)\n",
        "\n",
        "train_sample = train_sample.map(preprocess_function, batched=True)\n",
        "test_sample = test_sample.map(preprocess_function, batched=True)"
      ],
      "metadata": {
        "id": "Nqe51TgD0gaQ"
      },
      "execution_count": null,
      "outputs": []
    },
    {
      "cell_type": "markdown",
      "source": [
        "###2.5. Define training arguments"
      ],
      "metadata": {
        "id": "8jecbJhnlF0s"
      }
    },
    {
      "cell_type": "code",
      "source": [
        "from transformers import Trainer, TrainingArguments\n",
        "\n",
        "training_args = TrainingArguments(\n",
        "    output_dir=\"./results\",             # Directory to save model checkpoints and logs\n",
        "    evaluation_strategy=\"epoch\",        # Evaluate at the end of each epoch\n",
        "    learning_rate=2e-5,                 # Learning rate\n",
        "    per_device_train_batch_size=8,      # Batch size for training\n",
        "    per_device_eval_batch_size=8,       # Batch size for evaluation\n",
        "    num_train_epochs=3,                 # Number of epochs\n",
        "    weight_decay=0.01,                  # Weight decay for regularization\n",
        "    logging_dir='./logs',               # Directory for logging\n",
        "    logging_steps=10                    # Log every 10 steps\n",
        ")\n"
      ],
      "metadata": {
        "id": "HaeQAxvWlGrJ"
      },
      "execution_count": null,
      "outputs": []
    },
    {
      "cell_type": "markdown",
      "source": [
        "### 2.6. Define Metric Function"
      ],
      "metadata": {
        "id": "GF-8wPm88NAL"
      }
    },
    {
      "cell_type": "code",
      "source": [
        "import numpy as np\n",
        "from sklearn.metrics import accuracy_score, f1_score\n",
        "\n",
        "def compute_metrics(pred):\n",
        "    labels = pred.label_ids\n",
        "    preds = np.argmax(pred.predictions, axis=1)\n",
        "    accuracy = accuracy_score(labels, preds)\n",
        "    f1 = f1_score(labels, preds, average=\"weighted\")\n",
        "    return {\"accuracy\": accuracy, \"f1\": f1}"
      ],
      "metadata": {
        "id": "iAqpOVN38LIN"
      },
      "execution_count": null,
      "outputs": []
    },
    {
      "cell_type": "markdown",
      "source": [
        "### 2.7. Initialize Trainer"
      ],
      "metadata": {
        "id": "5oSKS7-ewjAa"
      }
    },
    {
      "cell_type": "code",
      "source": [
        "trainer = Trainer(\n",
        "    model=model,\n",
        "    args=training_args,\n",
        "    train_dataset=train_sample,\n",
        "    eval_dataset=test_sample,\n",
        "    compute_metrics=compute_metrics\n",
        ")"
      ],
      "metadata": {
        "id": "peZGw0bV0tz6"
      },
      "execution_count": null,
      "outputs": []
    },
    {
      "cell_type": "markdown",
      "source": [
        "### 2.8.Train model"
      ],
      "metadata": {
        "id": "5TJSU8K0l56a"
      }
    },
    {
      "cell_type": "code",
      "source": [
        "trainer.train()"
      ],
      "metadata": {
        "id": "9AYXnmH8l6kj"
      },
      "execution_count": null,
      "outputs": []
    },
    {
      "cell_type": "markdown",
      "source": [
        "### 2.9. Evaluate Model"
      ],
      "metadata": {
        "id": "urKfyKFZypkK"
      }
    },
    {
      "cell_type": "code",
      "source": [
        "results = trainer.evaluate()\n",
        "print(results)"
      ],
      "metadata": {
        "id": "C6eh-_c4yo3s"
      },
      "execution_count": null,
      "outputs": []
    },
    {
      "cell_type": "markdown",
      "source": [
        "### 2.10. Make Predictions"
      ],
      "metadata": {
        "id": "EsECHzDeytH1"
      }
    },
    {
      "cell_type": "code",
      "source": [
        "import torch\n",
        "device = torch.device(\"cuda\" if torch.cuda.is_available() else \"cpu\")\n",
        "model.to(device)\n",
        "\n",
        "def predict_sentiment(text):\n",
        "    inputs = tokenizer(text, return_tensors=\"pt\", truncation=True, max_length=128, padding=\"max_length\").to(device)\n",
        "    model.eval()\n",
        "    with torch.no_grad():\n",
        "        outputs = model(**inputs)\n",
        "        predictions = torch.nn.functional.softmax(outputs.logits, dim=-1)\n",
        "    sentiment = torch.argmax(predictions).item()\n",
        "    return \"positive\" if sentiment == 1 else \"negative\"\n",
        "\n",
        "\n",
        "print(predict_sentiment(\"This movie was fantastic!\"))"
      ],
      "metadata": {
        "id": "X38EHHFIyv-J"
      },
      "execution_count": null,
      "outputs": []
    },
    {
      "cell_type": "markdown",
      "source": [
        "### 2.10. Plot Confusion Matrix"
      ],
      "metadata": {
        "id": "dybl0QpC1N0E"
      }
    },
    {
      "cell_type": "code",
      "source": [
        "from sklearn.metrics import confusion_matrix\n",
        "import seaborn as sns\n",
        "\n",
        "### Generate predictions on test set\n",
        "predictions = trainer.predict(test_sample)\n",
        "y_preds = predictions.predictions.argmax(axis=-1)\n",
        "y_true = test_sample['label']\n",
        "\n",
        "### plot confusion matrix\n",
        "cm = confusion_matrix(y_true, y_preds)\n",
        "sns.heatmap(cm, annot=True, fmt='d', cmap='Blues', xticklabels=['Negative', 'Positive'], yticklabels=['Negative', 'Positive'])\n",
        "plt.xlabel(\"Predicted Label\")\n",
        "plt.ylabel(\"True Label\")\n",
        "plt.show()"
      ],
      "metadata": {
        "id": "E_q-WDDP1R9Y"
      },
      "execution_count": null,
      "outputs": []
    },
    {
      "cell_type": "markdown",
      "source": [
        "### Classification Report (Precision, Recall, F1 Score)"
      ],
      "metadata": {
        "id": "OGHPV7OV1THr"
      }
    },
    {
      "cell_type": "code",
      "source": [
        "from sklearn.metrics import classification_report\n",
        "import pandas as pd\n",
        "\n",
        "### generate classification report\n",
        "report = classification_report(y_true, y_preds, target_names=['Negative', 'Positive'], output_dict=True)\n",
        "\n",
        "### plot precision, recall, and F1\n",
        "metrics_df = pd.DataFrame(report).T\n",
        "metrics_df[['precision', 'recall', 'f1-score']].plot(kind='bar')\n",
        "plt.title(\"Classification Report Metrics\")\n",
        "plt.ylabel(\"Score\")\n",
        "plt.show()"
      ],
      "metadata": {
        "id": "215-Y0HB1X5q"
      },
      "execution_count": null,
      "outputs": []
    },
    {
      "cell_type": "markdown",
      "source": [
        "### ROC Curve and AUC"
      ],
      "metadata": {
        "id": "i58u0JNp1daj"
      }
    },
    {
      "cell_type": "code",
      "source": [
        "from sklearn.metrics import roc_curve, auc\n",
        "\n",
        "### get probability scores for positive class\n",
        "y_probs = predictions.predictions[:, 1]\n",
        "fpr, tpr, _ = roc_curve(y_true, y_probs)\n",
        "roc_auc = auc(fpr, tpr)\n",
        "\n",
        "plt.plot(fpr, tpr, label=f'AUC = {roc_auc:.2f}')\n",
        "plt.plot([0, 1], [0, 1], 'k--')  # Diagonal line\n",
        "plt.xlabel('False Positive Rate')\n",
        "plt.ylabel('True Positive Rate')\n",
        "plt.title('Receiver Operating Characteristic (ROC) Curve')\n",
        "plt.legend(loc='lower right')\n",
        "plt.show()"
      ],
      "metadata": {
        "id": "qEjDu_rF1g3M"
      },
      "execution_count": null,
      "outputs": []
    },
    {
      "cell_type": "markdown",
      "source": [
        "### Precision-Recall Curve"
      ],
      "metadata": {
        "id": "Q4p4TyJp1kwP"
      }
    },
    {
      "cell_type": "code",
      "source": [
        "from sklearn.metrics import precision_recall_curve\n",
        "\n",
        "precision, recall, _ = precision_recall_curve(y_true, y_probs)\n",
        "\n",
        "plt.plot(recall, precision, label='Precision-Recall Curve')\n",
        "plt.xlabel('Recall')\n",
        "plt.ylabel('Precision')\n",
        "plt.title('Precision-Recall Curve')\n",
        "plt.legend()\n",
        "plt.show()\n"
      ],
      "metadata": {
        "id": "x0rEBGF41mEy"
      },
      "execution_count": null,
      "outputs": []
    },
    {
      "cell_type": "markdown",
      "source": [
        "### Word Cloud of Misclassified Reviews"
      ],
      "metadata": {
        "id": "LvgGrRfS1s_0"
      }
    },
    {
      "cell_type": "code",
      "source": [
        "from wordcloud import WordCloud\n",
        "\n",
        "misclassified_texts = [test_sample[i]['text'] for i in range(len(y_true)) if y_true[i] != y_preds[i]]\n",
        "misclassified_text = \" \".join(misclassified_texts)\n",
        "\n",
        "wordcloud = WordCloud(width=800, height=400).generate(misclassified_text)\n",
        "plt.figure(figsize=(10, 5))\n",
        "plt.imshow(wordcloud, interpolation=\"bilinear\")\n",
        "plt.axis(\"off\")\n",
        "plt.show()\n"
      ],
      "metadata": {
        "id": "DDIhtkPC1sCL"
      },
      "execution_count": null,
      "outputs": []
    },
    {
      "cell_type": "markdown",
      "source": [
        "### Code Sources:\n",
        "\n",
        "1. https://huggingface.co/blog/sentiment-analysis-python\n",
        "2. https://medium.com/@manjindersingh_10145/sentiment-analysis-with-bert-using-huggingface-88e99deeec9a"
      ],
      "metadata": {
        "id": "jfhzFTa1tlvG"
      }
    }
  ]
}